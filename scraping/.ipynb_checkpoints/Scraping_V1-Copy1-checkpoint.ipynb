{
 "cells": [
  {
   "cell_type": "markdown",
   "metadata": {
    "toc": true
   },
   "source": [
    "<h1>Table of Contents<span class=\"tocSkip\"></span></h1>\n",
    "<div class=\"toc\"><ul class=\"toc-item\"><li><span><a href=\"#Install-/-Download-/-Import-Librairies\" data-toc-modified-id=\"Install-/-Download-/-Import-Librairies-1\"><span class=\"toc-item-num\">1&nbsp;&nbsp;</span>Install / Download / Import Librairies</a></span><ul class=\"toc-item\"><li><span><a href=\"#Part-1---Scraping-of-general-information-(id,-title,-date,-authors-and-language).\" data-toc-modified-id=\"Part-1---Scraping-of-general-information-(id,-title,-date,-authors-and-language).-1.1\"><span class=\"toc-item-num\">1.1&nbsp;&nbsp;</span>Part 1 - Scraping of general information (id, title, date, authors and language).</a></span></li><li><span><a href=\"#Partie-2---Abstracts\" data-toc-modified-id=\"Partie-2---Abstracts-1.2\"><span class=\"toc-item-num\">1.2&nbsp;&nbsp;</span>Partie 2 - Abstracts</a></span></li><li><span><a href=\"#Extraction-d'info-depuis-les-abstracts\" data-toc-modified-id=\"Extraction-d'info-depuis-les-abstracts-1.3\"><span class=\"toc-item-num\">1.3&nbsp;&nbsp;</span>Extraction d'info depuis les abstracts</a></span><ul class=\"toc-item\"><li><span><a href=\"#1-élément\" data-toc-modified-id=\"1-élément-1.3.1\"><span class=\"toc-item-num\">1.3.1&nbsp;&nbsp;</span>1 élément</a></span></li><li><span><a href=\"#Pls-éléments\" data-toc-modified-id=\"Pls-éléments-1.3.2\"><span class=\"toc-item-num\">1.3.2&nbsp;&nbsp;</span>Pls éléments</a></span></li></ul></li></ul></li></ul></div>"
   ]
  },
  {
   "cell_type": "markdown",
   "metadata": {},
   "source": [
    "# Install / Download / Import Librairies"
   ]
  },
  {
   "cell_type": "code",
   "execution_count": 1,
   "metadata": {
    "id": "bLqSqhQE2ii7"
   },
   "outputs": [],
   "source": [
    "# Scraping librairies\n",
    "import requests\n",
    "from bs4 import BeautifulSoup\n",
    "\n",
    "# Text librairy\n",
    "import re\n",
    "\n",
    "# Useful librairies\n",
    "from tqdm import tqdm\n",
    "import pandas as pd\n",
    "import numpy as np"
   ]
  },
  {
   "cell_type": "markdown",
   "metadata": {
    "id": "SWbEXnYJjF_h"
   },
   "source": [
    "## Part 1 - Scraping of general information (id, title, date, authors and language). \n",
    "In this first part, we will retrieve information that can be accessed directly from the search page (without the need to \"click\" on the article link). "
   ]
  },
  {
   "cell_type": "code",
   "execution_count": 2,
   "metadata": {
    "colab": {
     "base_uri": "https://localhost:8080/",
     "height": 472
    },
    "id": "TzKW5KC1jxmr",
    "outputId": "8e43fbdf-2ce3-47e5-f8fc-1a21cacd4928"
   },
   "outputs": [
    {
     "name": "stderr",
     "output_type": "stream",
     "text": [
      "100%|██████████| 115/115 [15:14<00:00,  7.95s/it]\n"
     ]
    }
   ],
   "source": [
    "# Create a session object\n",
    "with requests.Session() as s:\n",
    "\n",
    "    # Opening the \"df_infos.csv\" file (rather creation as it does not exist) in write mode.\n",
    "    with open(\"df_infos.csv\", \"w\") as outf:\n",
    "\n",
    "        # Writing the header line.\n",
    "        outf.write(\"Id;Date;Auteur;Titre;Langue\\n\")\n",
    "\n",
    "        # Browsing the pages to retrieve information from 11450 articles (100 articles per page)\n",
    "        for page in tqdm(range(0, 11450, 100)):\n",
    "\n",
    "            # Research equation on title and abstract only (not on all the content)\n",
    "            research_eq = \"(vehicle* OR transport OR transports OR train OR trains OR tractor OR bike* \\\n",
    "            OR bicycle* OR boat OR boats OR ship OR ships OR *plane OR *planes OR aircraft* OR car \\\n",
    "            OR cars OR truck* OR lorry* OR bus OR automobile* OR motor* OR rocket*) \\\n",
    "            AND hydrogen AND (ecolog* OR climat* OR pollution* OR environment* OR \\\"renewable energy\\\" \\\n",
    "            OR emission* OR \\\"carbon neutrality\\\" OR \\\"global warming\\\" OR conservation* OR sustaina*)\"\n",
    "\n",
    "            # Data to make the request\n",
    "            request_data = {\"basicQuery\": {\n",
    "                \"count\": 100,  # 100 articles per page\n",
    "                \"searchCriteria\": \"title : (\" + research_eq + \") abstract:(\" + research_eq + \")\",\n",
    "                \"offset\": page,  # page number\n",
    "                \"sortByDate\": False}  # we sort by relevance and not by date\n",
    "            }\n",
    "\n",
    "            # Sending the POST request with the request data.\n",
    "            res = s.post(\"https://core.ac.uk/search/api/search\",\n",
    "                         json=request_data)\n",
    "\n",
    "            # Storage of results (in .json format)\n",
    "            json = res.json()\n",
    "\n",
    "            # Separation of different information :\n",
    "\n",
    "            # (1) Identifiants\n",
    "            ids = [elem['id'] for elem in json['results']]\n",
    "\n",
    "            # (2) Dates\n",
    "            dates = [elem['datePublished'][:10]\n",
    "                     if 'datePublished' in elem else '' for elem in json['results']]\n",
    "\n",
    "            # (3) Authors\n",
    "            authors = [elem['authorsString'].replace('\\n', '').replace('\\r', '').replace('/', '').replace(',', '/')\n",
    "                       if 'authorsString' in elem else '' for elem in json['results']]\n",
    "\n",
    "            # (4) Titles\n",
    "            titles = [elem['title'].replace('\\n', '').replace(';', ',').replace('\\r', '')\n",
    "                      if 'title' in elem else '' for elem in json['results']]\n",
    "\n",
    "            # (5) Language\n",
    "            languages = [elem['language']['name']\n",
    "                         if 'language' in elem else '' for elem in json['results']]\n",
    "\n",
    "            # Writing to the .csv file\n",
    "            for identifiant, date, author, title, language in zip(ids, dates, authors, titles, languages):\n",
    "                outf.write(identifiant + ';' + date + ';' + auteur +\n",
    "                           ';' + titre + ';' + langue + '\\n')"
   ]
  },
  {
   "cell_type": "code",
   "execution_count": null,
   "metadata": {
    "id": "RpV9hXdfS_Ko"
   },
   "outputs": [],
   "source": [
    "# récupérer urls après avoir nétoyyer doublon dans en lisant le fichier csv dans un dataframe\n",
    "#urls.extend([\"https://core.ac.uk/display/\" + elem['id'] + \"?recSetID=\" for elem in json['results']])"
   ]
  },
  {
   "cell_type": "code",
   "execution_count": null,
   "metadata": {
    "id": "ZZHYPjijhQaG"
   },
   "outputs": [],
   "source": []
  },
  {
   "cell_type": "code",
   "execution_count": null,
   "metadata": {
    "id": "Bw6Nwd1szHY-"
   },
   "outputs": [],
   "source": [
    "#json['results']\n",
    "\n",
    "# V auteur = authorsString (!) il y a des abs \n",
    "# V date = datePublished\n",
    "# V url = https://core.ac.uk//display/[id]?recSecID=  => abstract + article sim + citation (phase 2)\n",
    "# V langue (!)(!)(!)(!)(!)(!)(!)(!)(!)(!)(!)(!)(!)(!)v\n",
    "# V titre \n",
    "# V organisme qui publie = publisher ???\n",
    "\n",
    "#=> 1000 pages = 10 000 docs = environ 1 heure ? \n",
    "\n",
    "# taille ? \n",
    "# relations ? \n",
    "# repository ? \n",
    "# extrait => snipet ? \n",
    "\n",
    "#=> 10 000 abstracts = 2h ?"
   ]
  },
  {
   "cell_type": "code",
   "execution_count": 2,
   "metadata": {
    "colab": {
     "base_uri": "https://localhost:8080/"
    },
    "id": "_8ZBS1_m-T0z",
    "outputId": "4cedc64d-e99f-4ba4-c604-f0da44e95e04"
   },
   "outputs": [],
   "source": [
    "# with open('liste.csv', 'w') as outf:\n",
    "#     for url in tqdm(urls):\n",
    "#         outf.write(url+'\\n')"
   ]
  },
  {
   "cell_type": "markdown",
   "metadata": {
    "id": "8IlRAt09-t59"
   },
   "source": [
    "## Partie 2 - Abstracts"
   ]
  },
  {
   "cell_type": "code",
   "execution_count": 2,
   "metadata": {
    "id": "MxY5BFdcXyHj"
   },
   "outputs": [
    {
     "data": {
      "text/plain": [
       "(8801, 5)"
      ]
     },
     "execution_count": 2,
     "metadata": {},
     "output_type": "execute_result"
    }
   ],
   "source": [
    "df1 = pd.read_csv(\"df_infos.csv\", sep=';', index_col=False, encoding='utf-8')\n",
    "cols = df1.columns\n",
    "df1 = df1.drop_duplicates()\n",
    "df1.shape"
   ]
  },
  {
   "cell_type": "code",
   "execution_count": 9,
   "metadata": {
    "colab": {
     "base_uri": "https://localhost:8080/"
    },
    "id": "OBrwiE8j5_UE",
    "outputId": "5168fff9-2322-48e3-eb9d-854cee40229c"
   },
   "outputs": [
    {
     "name": "stderr",
     "output_type": "stream",
     "text": [
      "100%|██████████| 8801/8801 [2:27:42<00:00,  1.01s/it]   \n"
     ]
    }
   ],
   "source": [
    "with requests.Session() as s :\n",
    "    with open(\"df_contenu.csv\", \"w\") as outf : \n",
    "        \n",
    "        outf.write(\"Id;MotCle;Abstract\\n\")\n",
    "        for id in tqdm(df1['Id']) : \n",
    "            try :\n",
    "                url = \"https://core.ac.uk/display/\" + str(id) + \"?recSetID=\"\n",
    "                res = s.get(url)\n",
    "                soup = BeautifulSoup(res.text)\n",
    "                \n",
    "                # MOTS CLES \n",
    "                try : \n",
    "                    divs = soup.find('div', {'class': 'article_sum'})\n",
    "                    topic = divs.find('div', {'class': None}).text.replace(\"\\r\", \"\").replace('\\n', '').strip()\n",
    "                    topic = ' '.join(topic.split())[8:] # enlever topics \n",
    "\n",
    "                    # Mots clés dans la zone \"Topics\" -> soit séparer par , soit par ; \n",
    "                    if (';' in topic and ',' not in topic):\n",
    "                        topic = topic.split(';')\n",
    "                    elif (',' in topic and ';' not in topic):\n",
    "                        topic = topic.split(',')\n",
    "                    elif (';' in topic and ',' in topic):\n",
    "                        tempo = topic.split(';')\n",
    "                        topic=[]\n",
    "                        for i in tempo:\n",
    "                            topic.extend(i.split(','))  \n",
    "                    elif ('.' in topic):\n",
    "                        topic = topic.split('.')\n",
    "                    elif (' - ' in topic):\n",
    "                        topic = topic.split(' - ')\n",
    "                    elif ('and' in topic):\n",
    "                        topic = topic.split('and')\n",
    "                    elif ('AND' in topic):\n",
    "                        topic = topic.split('AND')\n",
    "                    elif ('and' in topic):\n",
    "                        topic = topic.split('and')\n",
    "                    elif ('and' in topic):\n",
    "                        topic = topic.split('and')\n",
    "                    else : \n",
    "                        topic = [topic]\n",
    "\n",
    "                    # En plus, certains mots clés peuvent être dans le résumé (à la fin avec la mention \"Keywords: \")\n",
    "                    abstract = soup.find('p',  {'class': 'abstract'})\n",
    "                    if (abstract is not None ):\n",
    "                        abstract = abstract.text.strip().replace(\"\\r\", \"\").replace('\\n', '')\n",
    "                        if (\"Keywords\" in abstract):\n",
    "                            index = abstract.rfind(\"Keywords:\") + len(\"Keywords:\")\n",
    "                            keywords = abstract[index:].split(',')\n",
    "                            topic.extend(keywords)\n",
    "\n",
    "                except :\n",
    "                    topic = []\n",
    "                    abstract = soup.find('p',  {'class': 'abstract'})\n",
    "                    if (abstract is not None ):\n",
    "                        abstract = abstract.text.strip().replace(\"\\r\", \"\").replace('\\n', '')\n",
    "\n",
    "\n",
    "                        # A la fin du résumé mais avec mention \"keywords:\"\n",
    "                        if (\"Keywords\" in abstract):\n",
    "                            index = abstract.rfind(\"Keywords:\") + len(\"Keywords:\")\n",
    "                            keywords = abstract[index:].split(',')\n",
    "                            topic.extend(keywords)\n",
    "\n",
    "                        # A la fin du résumé (liste séparée par , ou ;)\n",
    "                        else :\n",
    "                            index = abstract.rfind('.') + 1\n",
    "                            if (';' in abstract[index:]):\n",
    "                                abstract_pv = abstract[index:].split(';')\n",
    "                                topic = [topic for topic in abstract_pv]\n",
    "\n",
    "                            elif (',' in abstract[index:]):\n",
    "                                abstract_v = abstract[index:].split(',')\n",
    "\n",
    "                                # La \",\" peut être présente dans une phrase normal, ne veut pas dire que c'est forcément une liste... \n",
    "                                isTopics = True\n",
    "                                for i in abstract_v :\n",
    "                                    if (len(i) >= 40):\n",
    "                                        isTopics = False \n",
    "                                if (isTopics):\n",
    "                                    topic = [topic for topic in abstract_v]\n",
    "\n",
    "\n",
    "                # RESUMES  \n",
    "                try : \n",
    "                    abstract = soup.find('p',  {'class': 'abstract'}).text.strip().replace(\"\\r\", \"\").replace('\\n', '').replace(';', ',')\n",
    "                except :\n",
    "                    abstract = '' \n",
    "\n",
    "\n",
    "                topic = [word for word in topic if len(word) > 3 ]\n",
    "                chaine = \"\"\n",
    "                for i in topic : \n",
    "                    chaine = chaine + i + \"/\"\n",
    "\n",
    "                outf.write(str(id) + ';' + chaine  + ';' + abstract + '\\n')\n",
    "            \n",
    "            except : \n",
    "                pass"
   ]
  },
  {
   "cell_type": "markdown",
   "metadata": {
    "id": "hvj1kRZEG3lP"
   },
   "source": [
    "## Extraction d'info depuis les abstracts "
   ]
  },
  {
   "cell_type": "code",
   "execution_count": 3,
   "metadata": {
    "colab": {
     "base_uri": "https://localhost:8080/",
     "height": 398
    },
    "id": "qsyapABJmpTo",
    "outputId": "3100d1d5-29c2-4d32-a71f-649ca5bcd70f"
   },
   "outputs": [
    {
     "data": {
      "text/plain": [
       "(8439, 3)"
      ]
     },
     "execution_count": 3,
     "metadata": {},
     "output_type": "execute_result"
    }
   ],
   "source": [
    "df2 = pd.read_csv(\"df_contenu.csv\", sep=';', index_col=False, encoding='utf-8')\n",
    "df2 = df2.dropna(subset=['Abstract'])\n",
    "df2 = df2.drop_duplicates()\n",
    "df2.shape"
   ]
  },
  {
   "cell_type": "code",
   "execution_count": 4,
   "metadata": {},
   "outputs": [
    {
     "data": {
      "text/plain": [
       "(8439, 7)"
      ]
     },
     "execution_count": 4,
     "metadata": {},
     "output_type": "execute_result"
    }
   ],
   "source": [
    "df = pd.merge(df1, df2)\n",
    "df = df.drop_duplicates()\n",
    "df.shape"
   ]
  },
  {
   "cell_type": "code",
   "execution_count": 5,
   "metadata": {
    "id": "6KfhwIF4dloU"
   },
   "outputs": [],
   "source": [
    "title = df['Titre'].apply(lambda x : x if (x is np.nan) else x.lower())\n",
    "abstract = df['Abstract'].apply(lambda x : x if (x is np.nan) else x.lower())\n",
    "\n",
    "df = df.drop(columns=['Abstract'])"
   ]
  },
  {
   "cell_type": "code",
   "execution_count": 6,
   "metadata": {},
   "outputs": [
    {
     "data": {
      "text/plain": [
       "(8439, 6)"
      ]
     },
     "execution_count": 6,
     "metadata": {},
     "output_type": "execute_result"
    }
   ],
   "source": [
    "df.shape"
   ]
  },
  {
   "cell_type": "markdown",
   "metadata": {
    "id": "N7LKYnuV9O5_"
   },
   "source": [
    "### 1 élément "
   ]
  },
  {
   "cell_type": "code",
   "execution_count": 7,
   "metadata": {
    "id": "TX5tzgs3o7aN"
   },
   "outputs": [],
   "source": [
    "def extraction_info1(liste_att_BD, liste_att, title, abstract):\n",
    "    liste = []\n",
    "\n",
    "    for titre, resume in zip(tqdm(title), abstract): \n",
    "        try :\n",
    "            liste_abs = [elem_BD for elem, elem_BD in zip(liste_att, liste_att_BD) if re.findall(elem, resume) != []]\n",
    "        except : \n",
    "            liste_abs = []\n",
    "        try : \n",
    "            liste_tit = [elem_BD for elem, elem_BD in zip(liste_att, liste_att_BD) if re.findall(elem, titre) != []]\n",
    "        except :\n",
    "            liste_tit = []\n",
    "\n",
    "        liste_res = liste_abs + liste_tit\n",
    "\n",
    "        liste_res = list(set(liste_res)) # enlever les doublons \n",
    "\n",
    "        res = \"\"\n",
    "        for elem in liste_res : \n",
    "            res = res + elem + \"/\"\n",
    "        \n",
    "        #df3.iloc[cpt]['Pays'] = res\n",
    "\n",
    "        liste.append(res)\n",
    "    \n",
    "    return liste"
   ]
  },
  {
   "cell_type": "code",
   "execution_count": 8,
   "metadata": {
    "colab": {
     "base_uri": "https://localhost:8080/"
    },
    "id": "GUYaPCwMnkj8",
    "outputId": "92d7ce0f-fdc2-4a99-f290-c21c2b759e23"
   },
   "outputs": [
    {
     "name": "stderr",
     "output_type": "stream",
     "text": [
      "100%|██████████| 8439/8439 [00:17<00:00, 484.99it/s]\n"
     ]
    }
   ],
   "source": [
    "liste_pays = [\"algeria\", \"angola\", \"(benin|dahomey)\", \"botswana\", \"burkina\", \"burundi\", \"cameroon\", \"cape verde\", \"central african republic\", \"( |,|\\.|\\-)chad( |,|\\.|\\-)\", \"comoros\", \"( |,|\\.|\\-)congo( |,|\\.|\\-)\", \"djibouti\",\n",
    "              \"egypt\", \"equatorial guinea\", \"eritrea\", \"ethiopia\", \"( |,|\\.|\\-)gabon( |,|\\.|\\-)\", \"gambia\", \"ghana\", \"guinea\", \"guinea(\\-| )bissau\", \"ivory coast\", \"kenya\", \"lesotho\", \"liberia\", \"libya\",\n",
    "              \"madagascar\", \"malawi\", \"( |,|\\.|\\-)mali( |,|\\.|\\-)\", \"mauritania\", \"mauritius\", \"morocco\", \"mozambique\", \"namibia\", \"( |,|\\.|\\-)niger( |,|\\.|\\-)\", \"nigeria\", \"rwanda\", \"sao tome and principe\", \"senegal\",\n",
    "              \"seychelles\", \"sierra leone\", \"somalia\", \"south(\\-| )africa\", \"( |,|\\.|\\-)sudan( |,|\\.|\\-)\", \"swaziland\", \"tanzania\", \"( |,|\\.|\\-)togo( |,|\\.|\\-)\", \"tunisia\", \"uganda\", \"zambia\", \"zimbabwe\", \"albania\", \"andorra\",\n",
    "              \"armenia\", \"austria\", \"azerbaijan\", \"belarus\", \"belgium\", \"bosnia\", \"bulgaria\", \"croatia\", \"cyprus\", \"(czech republic|czechia)\", \"denmark\", \"estonia\", \"finland\",\n",
    "              \"france\", \"england\", \"scotland\", \"wales\", \"georgia\", \"germany\", \"greece\", \"hungary\", \"iceland\", \"ireland\", \"italy\", \"latvia\", \"liechtenstein\", \"lithuania\", \"luxembourg\",\n",
    "              \"macedonia\", \"( |,|\\.|\\-)malta( |,|\\.|\\-)\", \"moldova\", \"monaco\", \"montenegro\", \"netherlands\", \"( |,|\\.|\\-)norway( |,|\\.|\\-)\", \"poland\", \"portugal\", \"romania\", \"san marino\", \"serbia\", \"slovakia\", \"slovenia\",\n",
    "              \"(espana|spain)\", \"sweden\", \"switzerland\", \"ukraine\", \"united(\\-| )kingdom\", \"vatican city\", \"antigua and barbuda\", \"bahamas\", \"barbados\", \"belize\", \"canada\",\n",
    "              \"costa rica\", \"( |,|\\.|\\-)cuba( |,|\\.|\\-)\", \"dominica( |,|\\.|\\-)\", \"dominican republic\", \"el salvador\", \"grenada\", \"guatemala\", \"haiti\", \"honduras\", \"jamaica\", \"mexico\", \"nicaragua\", \"panama\",\n",
    "              \"saint kitts and nevis\", \"saint lucia\", \"saint vincent and the grenadines\", \"trinidad and tobago\", \"(( |,|\\.|\\-)us( |,|\\.|\\-)|usa|united(\\-| )states)\", \"argentina\", \"bolivia\", \"brazil\", \"( |,|\\.|\\-)chile( |,|\\.|\\-)\",\n",
    "              \"colombia\", \"ecuador\", \"guyana\", \"paraguay\", \"( |,|\\.|\\-)peru( |,|\\.|\\-)\", \"suriname\", \"uruguay\", \"venezuela\", \"afghanistan\", \"bahrain\", \"bangladesh\", \"bhutan\", \"brunei\", \"(burma|myanmar)\",\n",
    "              \"cambodia\", \"china\", \"(east timor|timor(\\-| )leste)\", \"india\", \"indonesia\", \"( |,|\\.|\\-)iran( |,|\\.|\\-)\", \"( |,|\\.|\\-)iraq( |,|\\.|\\-)\", \"israel\", \"japan\", \"( |,|\\.|\\-)jordan( |,|\\.|\\-)\", \"kazakhstan\",\n",
    "              \"(republic of korea|south(\\-| )korea|korea, south)\", \"(north(\\-| )korea|korea, north)\", \"kuwait\", \"kyrgyzstan\", \"laos\", \"lebanon\", \"malaysia\", \"maldives\", \"mongolia\",\n",
    "              \"( |,|\\.|\\-)nepal( |,|\\.|\\-)\", \"( |,|\\.|\\-)oman( |,|\\.|\\-)\", \"pakistan\", \"palestine\", \"philippines\", \"qatar\", \"russia\", \"saudi arabia\", \"singapore\", \"sri lanka\", \"syria\", \"tajikistan\", \"thailand\", \"turkey\",\n",
    "              \"turkmenistan\", \"united arab emirates\", \"uzbekistan\", \"vietnam\", \"yemen\", \"australia\", \"fiji\", \"kiribati\", \"marshall islands\", \"micronesia\", \"( |,|\\.|\\-)nauru( |,|\\.|\\-)\", \"new(\\-| )zealand\",\n",
    "              \"palau( |,|\\.|\\-)\", \"papua new guinea\", \"samoa\", \"solomon islands\", \"tonga\", \"tuvalu\", \"vanuatu\", \"democratic republic of congo\"]\n",
    "\n",
    "liste_pays_BD = [\"Algérie\", \"Angola\", \"Bénin\", \"Botswana\", \"Burkina Faso\", \"Burundi\", \"Cameroun\", \"Cap vert\", \"République centrafricaine\", \"Tchad\", \"Comores\", \"Congo\", \"Djibouti\",\n",
    "                 \"Egypte\", \"Guinée équatoriale\", \"Erythree\", \"Ethiopie\", \"Gabon\", \"Gambie\", \"Ghana\", \"Guinée\", \"Guinée-Bissau\", \"Côte d'Ivoire\", \"Kenya\", \"Lesotho\", \"Liberia\",\n",
    "                 \"Libye\", \"Madagascar\", \"Malawi\", \"Mali\", \"Mauritanie\", \"Ile Maurice\", \"Maroc\", \"Mozambique\", \"Namibie\", \"Niger\", \"Nigeria\", \"Rwanda\", \"Sao Tomé-et-Principe\",\n",
    "                 \"Sénégal\", \"Seychelles\", \"Sierra Leone\", \"Somalie\", \"Afrique du Sud\", \"Soudan\", \"Swaziland\", \"Tanzanie\", \"Togo\", \"Tunisie\", \"Ouganda\", \"Zambie\", \"Zimbabwe\",\n",
    "                 \"Albanie\", \"Andorre\", \"Arménie\", \"Autriche\", \"Azerbaijan\", \"Biélorussie\", \"Belgique\", \"Bosnie\", \"Bulgarie\", \"Croatie\", \"Chypre\", \"République Tchèque\", \"Danemark\",\n",
    "                 \"Estonie\", \"Finlande\", \"France\", \"Angleterre\", \"Ecosse\", \"Pays de Galles\", \"Géorgie\", \"Allemagne\", \"Grèce\", \"Hongrie\", \"Islande\", \"Irelande\", \"Italie\", \"Lettonie\",\n",
    "                 \"Liechtenstein\", \"Lituanie\", \"Luxembourg\", \"Macédoine\", \"Malte\", \"Moldavie\", \"Monaco\", \"Montenegro\", \"Pays-Bas\", \"Norvège\", \"Pologne\", \"Portugal\", \"Roumanie\",\n",
    "                 \"Saint-Marin\", \"Serbie\", \"Slovaquie\", \"Slovénie\", \"Espagne\", \"Suède\", \"Suisse\", \"Ukraine\", \"Royaume-Uni\", \"Vatican\", \"Antigua-et-Barbuda\", \"Bahamas\", \"La Barbade\",\n",
    "                 \"Belize\", \"Canada\", \"Costa Rica\", \"Cuba\", \"Dominique\", \"République dominicaine\", \"El Salvador\", \"Grenade\", \"Guatemala\", \"Haiti\", \"Honduras\", \"Jamaique\", \"Mexique\",\n",
    "                 \"Nicaragua\", \"Paname\", \"Saint-Christophe et Niévès\", \"Saint Lucie\", \"Saint Vincent et les Grenadines\", \"Trinidad et Tobago\", \"Etats-Unis\", \"Argentine\", \"Bolivie\",\n",
    "                 \"Brésil\", \"Chili\", \"Colombie\", \"Equateur\", \"Guyane\", \"Paraguay\", \"Pérou\", \"Suriname\", \"Uruguay\", \"Venezuela\", \"Afghanistan\", \"Bahrein\", \"Bangladesh\", \"Bhoutan\",\n",
    "                 \"Brunei\", \"Myanmar\", \"Cambodge\", \"Chine\", \"Timor oriental\", \"Inde\", \"Indonésie\", \"Iran\", \"Irak\", \"Israël\", \"Japon\", \"Jordanie\", \"Kazakhstan\", \"Corée du Sud\",\n",
    "                 \"Corée du Nord\", \"Koweït\", \"Kyrgyzstan\", \"Laos\", \"Liban\", \"Malaysie\", \"Maldives\", \"Mongolie\", \"Népal\", \"Oman\", \"Pakistan\", \"Palestine\", \"Philippines\", \"Qatar\",\n",
    "                 \"Russie\", \"Arabie Saoudite\", \"Singapour\", \"Sri Lanka\", \"Syrie\", \"Tajikistan\", \"Thaïlande\", \"Turquie\", \"Turkmenistan\", \"Emirats Arabes Unis\", \"Ouzbekistan\",\n",
    "                 \"Viêtnam\", \"Yémen\", \"Australie\", \"Fiji\", \"République de Kiribati\", \"Iles Marshall\", \"Micronésie\", \"Nauru\", \"Nouvelle-Zélande\", \"Palau\",\n",
    "                 \"Papouasie Nouvelle Guinée\", \"Iles Samoa\", \"Iles Salomon\", \"Tonga\", \"Tuvalu\", \"Vanuatu\", \"République Democratique du Congo\"]\n",
    "\n",
    "\n",
    "res = extraction_info1(liste_pays_BD, liste_pays, title, abstract)\n",
    "df['Pays'] = res\n",
    "# stocker dans un df"
   ]
  },
  {
   "cell_type": "code",
   "execution_count": 9,
   "metadata": {
    "colab": {
     "base_uri": "https://localhost:8080/",
     "height": 206
    },
    "id": "B1fKRkrcoQ5J",
    "outputId": "b3f32dac-8211-452f-fab9-c8b85c09fd5b"
   },
   "outputs": [
    {
     "data": {
      "text/html": [
       "<div>\n",
       "<style scoped>\n",
       "    .dataframe tbody tr th:only-of-type {\n",
       "        vertical-align: middle;\n",
       "    }\n",
       "\n",
       "    .dataframe tbody tr th {\n",
       "        vertical-align: top;\n",
       "    }\n",
       "\n",
       "    .dataframe thead th {\n",
       "        text-align: right;\n",
       "    }\n",
       "</style>\n",
       "<table border=\"1\" class=\"dataframe\">\n",
       "  <thead>\n",
       "    <tr style=\"text-align: right;\">\n",
       "      <th></th>\n",
       "      <th>Id</th>\n",
       "      <th>Pays</th>\n",
       "    </tr>\n",
       "  </thead>\n",
       "  <tbody>\n",
       "    <tr>\n",
       "      <th>3225</th>\n",
       "      <td>56974258</td>\n",
       "      <td></td>\n",
       "    </tr>\n",
       "    <tr>\n",
       "      <th>7167</th>\n",
       "      <td>220150242</td>\n",
       "      <td></td>\n",
       "    </tr>\n",
       "    <tr>\n",
       "      <th>6487</th>\n",
       "      <td>162044413</td>\n",
       "      <td>Norvège/</td>\n",
       "    </tr>\n",
       "    <tr>\n",
       "      <th>1945</th>\n",
       "      <td>4882323</td>\n",
       "      <td>Mexique/</td>\n",
       "    </tr>\n",
       "    <tr>\n",
       "      <th>3251</th>\n",
       "      <td>38632234</td>\n",
       "      <td></td>\n",
       "    </tr>\n",
       "  </tbody>\n",
       "</table>\n",
       "</div>"
      ],
      "text/plain": [
       "             Id      Pays\n",
       "3225   56974258          \n",
       "7167  220150242          \n",
       "6487  162044413  Norvège/\n",
       "1945    4882323  Mexique/\n",
       "3251   38632234          "
      ]
     },
     "execution_count": 9,
     "metadata": {},
     "output_type": "execute_result"
    }
   ],
   "source": [
    "df[['Id','Pays']].sample(5, random_state=97)"
   ]
  },
  {
   "cell_type": "code",
   "execution_count": 10,
   "metadata": {
    "colab": {
     "base_uri": "https://localhost:8080/"
    },
    "id": "h_BXG-HNzmQV",
    "outputId": "38fc77db-e7ab-4e8b-ebe7-8885171a7ce0"
   },
   "outputs": [
    {
     "name": "stdout",
     "output_type": "stream",
     "text": [
      "Il y a 1916 articles qui mentionnent des pays\n"
     ]
    }
   ],
   "source": [
    "cpt = 0 \n",
    "for i in res:\n",
    "    if (i != \"\"):\n",
    "        cpt += 1\n",
    "print(\"Il y a %d articles qui mentionnent des pays\" %cpt)"
   ]
  },
  {
   "cell_type": "code",
   "execution_count": 11,
   "metadata": {
    "colab": {
     "base_uri": "https://localhost:8080/"
    },
    "id": "3i3ICQXKkEcy",
    "outputId": "071a1395-ba76-404d-ac35-f2f04cb8b618"
   },
   "outputs": [
    {
     "name": "stderr",
     "output_type": "stream",
     "text": [
      "100%|██████████| 8439/8439 [00:03<00:00, 2445.18it/s]\n"
     ]
    }
   ],
   "source": [
    "liste_vehicule = [\" train\", \" tractor\", \" (bike|bicycle)\", \" (boat|ship|vessel|ferry|narrowboat|barge|liner|yacht)\",\n",
    "                  \" (aeroplane| plane|airplane|aircraft| jet)\", \" (car|automobile|saloon|van|pickup)\",\n",
    "                  \" (truck|lorry|semitrailer|rig|juggernaut|hgv|heavy goods vehicle)\", \" (bus|coach)\", \" rocket\",\n",
    "                  \" helicopter\", \"(( | motor)bike| motorcycle)\", \" (tram|streetcar)\"]\n",
    "\n",
    "# On veut un espace (fin du mot), une virgule, un s ou un point après nos mots. \n",
    "liste_vehicule = [elem + \"( |s|,|\\.)\" for elem in liste_vehicule]\n",
    "liste_vehicule_BD = [\"Train\", \"Tracteur\", \"Vélo\", \"Bateau\", \"Avion\", \"Voiture\", \n",
    "                     \"Camion\", \"Bus\", \"Fusée\", \"Hélicoptère\", \"Moto\", \"Tramway\"]\n",
    "\n",
    "\n",
    "res = extraction_info1(liste_vehicule_BD, liste_vehicule, title, abstract)\n",
    "df['Vehicule'] = res"
   ]
  },
  {
   "cell_type": "code",
   "execution_count": 12,
   "metadata": {
    "colab": {
     "base_uri": "https://localhost:8080/",
     "height": 206
    },
    "id": "SOwE614NrImk",
    "outputId": "4bb7460d-cd6b-4e11-8811-37a132a7045a"
   },
   "outputs": [
    {
     "data": {
      "text/html": [
       "<div>\n",
       "<style scoped>\n",
       "    .dataframe tbody tr th:only-of-type {\n",
       "        vertical-align: middle;\n",
       "    }\n",
       "\n",
       "    .dataframe tbody tr th {\n",
       "        vertical-align: top;\n",
       "    }\n",
       "\n",
       "    .dataframe thead th {\n",
       "        text-align: right;\n",
       "    }\n",
       "</style>\n",
       "<table border=\"1\" class=\"dataframe\">\n",
       "  <thead>\n",
       "    <tr style=\"text-align: right;\">\n",
       "      <th></th>\n",
       "      <th>Id</th>\n",
       "      <th>Pays</th>\n",
       "      <th>Vehicule</th>\n",
       "    </tr>\n",
       "  </thead>\n",
       "  <tbody>\n",
       "    <tr>\n",
       "      <th>3225</th>\n",
       "      <td>56974258</td>\n",
       "      <td></td>\n",
       "      <td>Voiture/</td>\n",
       "    </tr>\n",
       "    <tr>\n",
       "      <th>7167</th>\n",
       "      <td>220150242</td>\n",
       "      <td></td>\n",
       "      <td>Fusée/</td>\n",
       "    </tr>\n",
       "    <tr>\n",
       "      <th>6487</th>\n",
       "      <td>162044413</td>\n",
       "      <td>Norvège/</td>\n",
       "      <td></td>\n",
       "    </tr>\n",
       "    <tr>\n",
       "      <th>1945</th>\n",
       "      <td>4882323</td>\n",
       "      <td>Mexique/</td>\n",
       "      <td>Avion/</td>\n",
       "    </tr>\n",
       "    <tr>\n",
       "      <th>3251</th>\n",
       "      <td>38632234</td>\n",
       "      <td></td>\n",
       "      <td>Bateau/</td>\n",
       "    </tr>\n",
       "  </tbody>\n",
       "</table>\n",
       "</div>"
      ],
      "text/plain": [
       "             Id      Pays  Vehicule\n",
       "3225   56974258            Voiture/\n",
       "7167  220150242              Fusée/\n",
       "6487  162044413  Norvège/          \n",
       "1945    4882323  Mexique/    Avion/\n",
       "3251   38632234             Bateau/"
      ]
     },
     "execution_count": 12,
     "metadata": {},
     "output_type": "execute_result"
    }
   ],
   "source": [
    "df[['Id', 'Pays', 'Vehicule']].sample(5, random_state=97)"
   ]
  },
  {
   "cell_type": "code",
   "execution_count": 13,
   "metadata": {
    "colab": {
     "base_uri": "https://localhost:8080/"
    },
    "id": "dqIQ6z0Z25Ir",
    "outputId": "c709b24a-3c12-4d0a-f85f-1e965ccffc38"
   },
   "outputs": [
    {
     "name": "stdout",
     "output_type": "stream",
     "text": [
      "Il y a 2419 articles qui mentionnent des véhicules\n"
     ]
    }
   ],
   "source": [
    "cpt = 0 \n",
    "for i in res:\n",
    "    if (i != \"\"):\n",
    "        cpt += 1\n",
    "print(\"Il y a %d articles qui mentionnent des véhicules\" %cpt)"
   ]
  },
  {
   "cell_type": "code",
   "execution_count": 14,
   "metadata": {
    "colab": {
     "base_uri": "https://localhost:8080/"
    },
    "id": "oi95qG3o2Hbn",
    "outputId": "fb3fcf58-4efc-48a2-d06a-a47ee7386e03"
   },
   "outputs": [
    {
     "data": {
      "text/plain": [
       "{'',\n",
       " 'Avion/',\n",
       " 'Avion/Train/',\n",
       " 'Bateau/',\n",
       " 'Bateau/Avion/',\n",
       " 'Bateau/Avion/Train/',\n",
       " 'Bateau/Camion/',\n",
       " 'Bateau/Camion/Avion/',\n",
       " 'Bateau/Camion/Train/',\n",
       " 'Bateau/Fusée/',\n",
       " 'Bateau/Fusée/Avion/',\n",
       " 'Bateau/Fusée/Camion/',\n",
       " 'Bateau/Fusée/Hélicoptère/',\n",
       " 'Bateau/Train/',\n",
       " 'Bus/',\n",
       " 'Bus/Avion/',\n",
       " 'Bus/Bateau/',\n",
       " 'Bus/Bateau/Camion/Voiture/Avion/Train/',\n",
       " 'Bus/Camion/',\n",
       " 'Bus/Moto/Bateau/Camion/Voiture/Avion/',\n",
       " 'Bus/Train/',\n",
       " 'Bus/Tramway/',\n",
       " 'Bus/Voiture/',\n",
       " 'Bus/Voiture/Bateau/',\n",
       " 'Bus/Voiture/Camion/',\n",
       " 'Bus/Voiture/Train/',\n",
       " 'Camion/',\n",
       " 'Camion/Avion/',\n",
       " 'Camion/Avion/Train/',\n",
       " 'Camion/Train/',\n",
       " 'Fusée/',\n",
       " 'Fusée/Avion/',\n",
       " 'Fusée/Avion/Train/',\n",
       " 'Fusée/Camion/',\n",
       " 'Fusée/Camion/Avion/',\n",
       " 'Hélicoptère/',\n",
       " 'Hélicoptère/Avion/',\n",
       " 'Hélicoptère/Fusée/',\n",
       " 'Moto/',\n",
       " 'Moto/Train/',\n",
       " 'Moto/Voiture/',\n",
       " 'Moto/Voiture/Camion/',\n",
       " 'Moto/Voiture/Fusée/Avion/',\n",
       " 'Tracteur/',\n",
       " 'Tracteur/Avion/',\n",
       " 'Tracteur/Bateau/',\n",
       " 'Tracteur/Camion/',\n",
       " 'Tracteur/Voiture/',\n",
       " 'Train/',\n",
       " 'Tramway/',\n",
       " 'Tramway/Voiture/',\n",
       " 'Voiture/',\n",
       " 'Voiture/Avion/',\n",
       " 'Voiture/Avion/Train/',\n",
       " 'Voiture/Bateau/',\n",
       " 'Voiture/Bateau/Avion/',\n",
       " 'Voiture/Bateau/Avion/Train/',\n",
       " 'Voiture/Bateau/Camion/',\n",
       " 'Voiture/Bateau/Hélicoptère/',\n",
       " 'Voiture/Bateau/Train/',\n",
       " 'Voiture/Camion/',\n",
       " 'Voiture/Camion/Avion/',\n",
       " 'Voiture/Camion/Train/',\n",
       " 'Voiture/Fusée/',\n",
       " 'Voiture/Train/',\n",
       " 'Vélo/',\n",
       " 'Vélo/Fusée/',\n",
       " 'Vélo/Moto/',\n",
       " 'Vélo/Moto/Camion/',\n",
       " 'Vélo/Moto/Voiture/',\n",
       " 'Vélo/Moto/Voiture/Camion/',\n",
       " 'Vélo/Voiture/'}"
      ]
     },
     "execution_count": 14,
     "metadata": {},
     "output_type": "execute_result"
    }
   ],
   "source": [
    "set(res)"
   ]
  },
  {
   "cell_type": "code",
   "execution_count": 16,
   "metadata": {
    "colab": {
     "base_uri": "https://localhost:8080/"
    },
    "id": "8nZgP2zV81YF",
    "outputId": "2445bcb7-7a01-4573-8557-f29371c42536"
   },
   "outputs": [
    {
     "name": "stderr",
     "output_type": "stream",
     "text": [
      "100%|██████████| 8439/8439 [00:05<00:00, 1507.91it/s]\n"
     ]
    }
   ],
   "source": [
    "# Marque \n",
    "liste_marque = [\"hyundai\", \"toyota\", \"renault\", \"honda\", \"airbus\", \"boeing\", \"thales\", \"mercedes\",\n",
    "                \"( |')audi( |'|\\.|,)\", \"( |'|\\.|,)kia( |'|\\.|,)\", \"river( |\\-|)simple\", \"nissan\", \n",
    "                \"( |'|\\.|,)ford( |'|\\.|,)\",\n",
    "                \"daimler\", \"alstom\", \"bmw\", \"hopium\", \"peugeot\", \"volkswagen\", \"general motors\", \"( |'|\\.|,)psa( |'|\\.|,)\", \n",
    "                \"(roland gumpert|apollo automobil|gmbh)\", \"mazda\", \"aston martin\", \"pininfarina\", \"suzuki\",\n",
    "                \"volvo\", \"( |'|\\.|,)opel( |'|\\.|,)\", \"dassault\", \"cessna\", \"bombardier\", \" mig( |'|\\.|,)\",\n",
    "                \"diamond aircraft\", \"zeroavia\", \"rolls-royce\", \"( |'|\\.|,)eviation( |'|\\.|,)\", \"(gknpz|khrounitchev)\", \n",
    "                \"spacex\", \"avio( |'|\\.|,)\", \"ariane\", \"united launch alliance\", \"mcdonnell douglas\", \"mitsubishi\", \n",
    "                \"isro\", \"ioujnoïe\", \"citroen\", \"( |'|\\.|,)fiat( |'|\\.|,)\", \"( |'|\\.|,)lancia( |'|\\.|,)\", \"skoda\",\n",
    "                \"yamaha\", \"( |'|\\.|,)ktm( |'|\\.|,)\", \"kawasaki\", \"ducati\", \"suzuki\"]\n",
    "    \n",
    "liste_marque_BD = [\"Hyundai\", \"Toyota\", \"Renault\", \"Honda\", \"Airbus\", \"Boeing\", \"Thalès\", \"Mercedes\",\"Audi\", \"Kia\",\n",
    "                   \"Riversimple\", \"Nissan\", \"Ford\", \"Daimler\", \"Alstom\", \"BMW\", \"Hopium\", \"Peugeot\", \"Volkswagen\",\n",
    "                   \"General Motors\", \"PSA\", \"Roland Gumpert\", \"Mazda\", \"Aston Martin\", \"Pininfarina\", \"Suzuki\",\n",
    "                   \"Volvo\", \"Opel\", \"Dassault\", \"Cessna\", \"Bombardier\", \"MiG\", \"Diamond Aircraft\", \"ZeroAvia\",\n",
    "                   \"Rolls-Royce\", \"Eviation\", \"Khrounitchev\", \"SpaceX\", \"Avio\", \"ArianeGroup\", \n",
    "                   \"United Launch Alliance\", \"McDonnell Douglas\", \"Mitsubishi Heavy Industries\", \"ISRO\", \n",
    "                   \"Ioujnoie\", \"Citroën\", \"Fiat\", \"Lancia\", \"Skoda\", \"Yamaha\", \"KTM\", \"Kawasaki\", \"Ducati\", \n",
    "                   \"Suzuki\"]\n",
    "\n",
    "res = extraction_info1(liste_marque_BD, liste_marque, title, abstract)\n",
    "df['Marque'] = res"
   ]
  },
  {
   "cell_type": "code",
   "execution_count": 17,
   "metadata": {
    "colab": {
     "base_uri": "https://localhost:8080/",
     "height": 206
    },
    "id": "f9UP-5_wrf1-",
    "outputId": "d5e8de8f-3ee6-4a6e-95f2-2e9fcc6e5179"
   },
   "outputs": [
    {
     "data": {
      "text/html": [
       "<div>\n",
       "<style scoped>\n",
       "    .dataframe tbody tr th:only-of-type {\n",
       "        vertical-align: middle;\n",
       "    }\n",
       "\n",
       "    .dataframe tbody tr th {\n",
       "        vertical-align: top;\n",
       "    }\n",
       "\n",
       "    .dataframe thead th {\n",
       "        text-align: right;\n",
       "    }\n",
       "</style>\n",
       "<table border=\"1\" class=\"dataframe\">\n",
       "  <thead>\n",
       "    <tr style=\"text-align: right;\">\n",
       "      <th></th>\n",
       "      <th>Id</th>\n",
       "      <th>Pays</th>\n",
       "      <th>Vehicule</th>\n",
       "      <th>Marque</th>\n",
       "    </tr>\n",
       "  </thead>\n",
       "  <tbody>\n",
       "    <tr>\n",
       "      <th>3225</th>\n",
       "      <td>56974258</td>\n",
       "      <td></td>\n",
       "      <td>Voiture/</td>\n",
       "      <td></td>\n",
       "    </tr>\n",
       "    <tr>\n",
       "      <th>7167</th>\n",
       "      <td>220150242</td>\n",
       "      <td></td>\n",
       "      <td>Fusée/</td>\n",
       "      <td></td>\n",
       "    </tr>\n",
       "    <tr>\n",
       "      <th>6487</th>\n",
       "      <td>162044413</td>\n",
       "      <td>Norvège/</td>\n",
       "      <td></td>\n",
       "      <td></td>\n",
       "    </tr>\n",
       "    <tr>\n",
       "      <th>1945</th>\n",
       "      <td>4882323</td>\n",
       "      <td>Mexique/</td>\n",
       "      <td>Avion/</td>\n",
       "      <td></td>\n",
       "    </tr>\n",
       "    <tr>\n",
       "      <th>3251</th>\n",
       "      <td>38632234</td>\n",
       "      <td></td>\n",
       "      <td>Bateau/</td>\n",
       "      <td></td>\n",
       "    </tr>\n",
       "  </tbody>\n",
       "</table>\n",
       "</div>"
      ],
      "text/plain": [
       "             Id      Pays  Vehicule Marque\n",
       "3225   56974258            Voiture/       \n",
       "7167  220150242              Fusée/       \n",
       "6487  162044413  Norvège/                 \n",
       "1945    4882323  Mexique/    Avion/       \n",
       "3251   38632234             Bateau/       "
      ]
     },
     "execution_count": 17,
     "metadata": {},
     "output_type": "execute_result"
    }
   ],
   "source": [
    "df[['Id', 'Pays', 'Vehicule', 'Marque']].sample(5, random_state=97)"
   ]
  },
  {
   "cell_type": "code",
   "execution_count": 18,
   "metadata": {
    "colab": {
     "base_uri": "https://localhost:8080/"
    },
    "id": "K-yvrQLt7_D8",
    "outputId": "8cddf4a7-95a2-416f-8beb-de238dc2aa43"
   },
   "outputs": [
    {
     "name": "stdout",
     "output_type": "stream",
     "text": [
      "Il y a 290 articles qui mentionnent des marques\n"
     ]
    }
   ],
   "source": [
    "cpt = 0 \n",
    "for i in res:\n",
    "    if (i != \"\"):\n",
    "        cpt += 1\n",
    "print(\"Il y a %d articles qui mentionnent des marques\" %cpt)"
   ]
  },
  {
   "cell_type": "code",
   "execution_count": 19,
   "metadata": {
    "colab": {
     "base_uri": "https://localhost:8080/"
    },
    "id": "A2JO3cXYApO6",
    "outputId": "85f26312-bff9-441f-c2ff-3f61d4272f8e"
   },
   "outputs": [
    {
     "data": {
      "text/plain": [
       "{'',\n",
       " 'Airbus/',\n",
       " 'Airbus/MiG/',\n",
       " 'Alstom/',\n",
       " 'ArianeGroup/',\n",
       " 'Aston Martin/Ford/BMW/',\n",
       " 'Audi/',\n",
       " 'Audi/Fiat/',\n",
       " 'Audi/Mercedes/BMW/Toyota/',\n",
       " 'BMW/',\n",
       " 'BMW/PSA/Toyota/Renault/Nissan/',\n",
       " 'BMW/Roland Gumpert/',\n",
       " 'Boeing/',\n",
       " 'Bombardier/',\n",
       " 'Cessna/',\n",
       " 'Cessna/Ducati/',\n",
       " 'Daimler/',\n",
       " 'Ducati/',\n",
       " 'Fiat/',\n",
       " 'Ford/',\n",
       " 'Ford/Ducati/',\n",
       " 'Ford/General Motors/',\n",
       " 'Ford/General Motors/Daimler/',\n",
       " 'General Motors/',\n",
       " 'General Motors/Daimler/',\n",
       " 'General Motors/Ducati/',\n",
       " 'Honda/',\n",
       " 'Honda/Ford/BMW/Toyota/Mercedes/Volkswagen/Nissan/',\n",
       " 'Honda/General Motors/Toyota/',\n",
       " 'Honda/Toyota/',\n",
       " 'Honda/Toyota/Daimler/',\n",
       " 'Hyundai/',\n",
       " 'ISRO/',\n",
       " 'Kawasaki/',\n",
       " 'Mazda/',\n",
       " 'McDonnell Douglas/',\n",
       " 'Mercedes/',\n",
       " 'Mercedes/Daimler/',\n",
       " 'Mercedes/Fiat/',\n",
       " 'MiG/',\n",
       " 'Nissan/',\n",
       " 'PSA/',\n",
       " 'Peugeot/PSA/',\n",
       " 'Renault/',\n",
       " 'Renault/Nissan/Toyota/',\n",
       " 'Roland Gumpert/',\n",
       " 'Roland Gumpert/Ducati/',\n",
       " 'Roland Gumpert/Kawasaki/',\n",
       " 'Rolls-Royce/BMW/Toyota/',\n",
       " 'SpaceX/',\n",
       " 'Suzuki/',\n",
       " 'Toyota/',\n",
       " 'Volvo/',\n",
       " 'Volvo/Daimler/',\n",
       " 'Yamaha/'}"
      ]
     },
     "execution_count": 19,
     "metadata": {},
     "output_type": "execute_result"
    }
   ],
   "source": [
    "set(res)"
   ]
  },
  {
   "cell_type": "markdown",
   "metadata": {
    "id": "lY43fRK_9UPD"
   },
   "source": [
    "### Pls éléments"
   ]
  },
  {
   "cell_type": "code",
   "execution_count": 20,
   "metadata": {
    "id": "OZ1MRLokvtNA"
   },
   "outputs": [],
   "source": [
    "def extraction_info2(liste_att_BD, liste_att, title, abstract):\n",
    "    liste = []\n",
    "\n",
    "    for titre, resume in zip(tqdm(title), abstract): \n",
    "\n",
    "        liste_tempo = []\n",
    "        for att_BD, liste_voc in zip(liste_att_BD, liste_att):\n",
    "            try :\n",
    "                liste_abs = [voc for voc in liste_voc if re.findall(voc, resume) != []]\n",
    "            except : \n",
    "                liste_abs = []\n",
    "            try : \n",
    "                liste_tit = [voc for voc in liste_voc if re.findall(voc, titre) != []]\n",
    "            except :\n",
    "                liste_tit = []\n",
    "\n",
    "            liste_res = liste_abs + liste_tit\n",
    "    \n",
    "            #tempo = [voc for voc in liste_voc if re.findall(voc, abstract) != []]\n",
    "            #tempo2 = [voc for voc in liste_voc if re.findall(voc, title) != []]\n",
    "            \n",
    "            if (len(liste_res) > 0):\n",
    "                liste_tempo.append(att_BD)\n",
    "\n",
    "        res = \"\"\n",
    "        for elem in liste_tempo : \n",
    "            res = res + elem + \"/\"\n",
    "\n",
    "        liste.append(res)\n",
    "    \n",
    "    return liste"
   ]
  },
  {
   "cell_type": "code",
   "execution_count": 21,
   "metadata": {
    "colab": {
     "base_uri": "https://localhost:8080/"
    },
    "id": "5l9_FF4urD96",
    "outputId": "db08e8bf-9dbc-46b3-beea-fc2df505b75d"
   },
   "outputs": [
    {
     "name": "stderr",
     "output_type": "stream",
     "text": [
      "100%|██████████| 8439/8439 [00:01<00:00, 4449.32it/s]\n"
     ]
    }
   ],
   "source": [
    "# Moteurs\n",
    "combustion_int = [\"internal( |\\-)combustion engine\", \"i.c.e\", \"burn(s| ) * fuel * cylinder(s| )\",\n",
    "                  \"reciprocating engine\", \"piston engine\" ]\n",
    "\n",
    "reaction = [\"jet (engine|propulsion)\", \"turbojet\", \"propellant \", \"projection * fluid\", \"turbofan\",\n",
    "            \"ramjet\", \"pulse jet\"]\n",
    "\n",
    "pile_combustible = [\"fuel cell\", \"electrochemical cell\", \"oxidi(z|s)ation\", \"oxidizing agent\",\n",
    "                    \"redox\", \"chemical energy\", \"anode\", \"cathode\", \"electrolyte\"]\n",
    "\n",
    "hybride = [\"hybrid\", \"hydrogen addition on\"]\n",
    "\n",
    "liste_moteur = [combustion_int, reaction, pile_combustible, hybride]\n",
    "liste_moteur_BD = [\"Combustion interne\", \"Réaction\",  \"Pile à combustible\", \"Hybride\"]\n",
    "\n",
    "res = extraction_info2(liste_moteur_BD, liste_moteur, title, abstract)\n",
    "df['Moteur'] = res"
   ]
  },
  {
   "cell_type": "code",
   "execution_count": 22,
   "metadata": {
    "colab": {
     "base_uri": "https://localhost:8080/"
    },
    "id": "Uy9Foy2XtyZp",
    "outputId": "8fa2b1ac-81d6-4de8-a8a9-b5fe18a2bba2"
   },
   "outputs": [
    {
     "name": "stdout",
     "output_type": "stream",
     "text": [
      "Il y a 4920 articles qui mentionnent des moteurs\n"
     ]
    }
   ],
   "source": [
    "cpt = 0 \n",
    "for i in res:\n",
    "    if (i != \"\"):\n",
    "        cpt += 1\n",
    "print(\"Il y a %d articles qui mentionnent des moteurs\" %cpt)"
   ]
  },
  {
   "cell_type": "code",
   "execution_count": 23,
   "metadata": {
    "colab": {
     "base_uri": "https://localhost:8080/"
    },
    "id": "vOr2mTv6tyml",
    "outputId": "5e07e47b-1a3f-4e9c-bbef-6c8a1a649a9b"
   },
   "outputs": [
    {
     "data": {
      "text/plain": [
       "                                                           3519\n",
       "Combustion interne/                                        1992\n",
       "Pile à combustible/                                        1046\n",
       "Combustion interne/Pile à combustible/                      941\n",
       "Combustion interne/Pile à combustible/Hybride/              262\n",
       "Pile à combustible/Hybride/                                 226\n",
       "Hybride/                                                    168\n",
       "Combustion interne/Hybride/                                 140\n",
       "Réaction/                                                    92\n",
       "Combustion interne/Réaction/                                 40\n",
       "Combustion interne/Réaction/Pile à combustible/Hybride/       4\n",
       "Réaction/Hybride/                                             3\n",
       "Réaction/Pile à combustible/                                  2\n",
       "Combustion interne/Réaction/Hybride/                          2\n",
       "Réaction/Pile à combustible/Hybride/                          1\n",
       "Combustion interne/Réaction/Pile à combustible/               1\n",
       "dtype: int64"
      ]
     },
     "execution_count": 23,
     "metadata": {},
     "output_type": "execute_result"
    }
   ],
   "source": [
    "pd.Series(res).value_counts()"
   ]
  },
  {
   "cell_type": "code",
   "execution_count": 24,
   "metadata": {
    "colab": {
     "base_uri": "https://localhost:8080/"
    },
    "id": "6-NafIIDbpmF",
    "outputId": "f1896db9-80f0-4be8-9055-fd5275b115c7"
   },
   "outputs": [
    {
     "name": "stderr",
     "output_type": "stream",
     "text": [
      "100%|██████████| 8439/8439 [00:01<00:00, 5334.32it/s]\n"
     ]
    }
   ],
   "source": [
    "# Types de stockages \n",
    "\n",
    "gaz = [\"compress\", \"gaseous\", \"increase * pressure\", \"high( |-)pressure\", \"ch2\", \"cgh2\",\n",
    "       \"under( |-)pressure\", \"storage density\", \"hydrogen tanks\"]\n",
    "\n",
    "liquide = [\"liqu(e|i)f\", \"liquid (hydrogen|state|form)\", \"LH2\", \"cooled \", \"critical point\", \"33( |)k\",\n",
    "           \"-253(| )°c\", \"252(,|.)87\", \"20(.|,)28( |)k\", \"parahydrogen\", \"orthohydrogen\", \"low temperature\",\n",
    "           \"cooling\", \"chilled\"]\n",
    "\n",
    "solide = [\"solid (hydrogen|state|form)\", \"a(b|d)sorption\", \"metal alloy\", \"hydride\", \"alanate\"]\n",
    "\n",
    "liste_stockage = [gaz, liquide, solide]\n",
    "liste_stockage_BD = ['Gaz', 'Liquide', 'Solide']\n",
    "\n",
    "res = extraction_info2(liste_stockage_BD, liste_stockage, title, abstract)\n",
    "df['Stockage'] = res"
   ]
  },
  {
   "cell_type": "code",
   "execution_count": 25,
   "metadata": {
    "colab": {
     "base_uri": "https://localhost:8080/"
    },
    "id": "qd5c2f-Utyx9",
    "outputId": "de558dfe-a5db-4235-b536-cee032dd1fa5"
   },
   "outputs": [
    {
     "name": "stdout",
     "output_type": "stream",
     "text": [
      "Il y a 2443 articles qui mentionnent des types de stockages\n"
     ]
    }
   ],
   "source": [
    "cpt = 0 \n",
    "for i in res:\n",
    "    if (i != \"\"):\n",
    "        cpt += 1\n",
    "print(\"Il y a %d articles qui mentionnent des types de stockages\" %cpt)"
   ]
  },
  {
   "cell_type": "code",
   "execution_count": 26,
   "metadata": {
    "colab": {
     "base_uri": "https://localhost:8080/"
    },
    "id": "ZMJ0QNj1yY0y",
    "outputId": "e1429217-a97e-4d92-9984-553fbab18b75"
   },
   "outputs": [
    {
     "data": {
      "text/plain": [
       "                       5996\n",
       "Solide/                 733\n",
       "Gaz/                    688\n",
       "Liquide/                559\n",
       "Gaz/Liquide/            209\n",
       "Gaz/Solide/             121\n",
       "Liquide/Solide/          95\n",
       "Gaz/Liquide/Solide/      38\n",
       "dtype: int64"
      ]
     },
     "execution_count": 26,
     "metadata": {},
     "output_type": "execute_result"
    }
   ],
   "source": [
    "pd.Series(res).value_counts()"
   ]
  },
  {
   "cell_type": "code",
   "execution_count": 27,
   "metadata": {
    "colab": {
     "base_uri": "https://localhost:8080/"
    },
    "id": "mw51kFSE2i9_",
    "outputId": "7fa3f29c-50a8-4cae-8e2d-c610c727c2a5"
   },
   "outputs": [
    {
     "name": "stderr",
     "output_type": "stream",
     "text": [
      "100%|██████████| 8439/8439 [00:04<00:00, 1775.15it/s]\n"
     ]
    }
   ],
   "source": [
    "# Types de production \n",
    "\n",
    "# 3 types : À partir de composés organiques, à partir de l'eau, à partir phtosynthèse \n",
    "\n",
    "# (1) Hydraucarbues\n",
    "SMR = [\"smr\", \"steam (methane |)reforming\", \"nickel catalyst\", \"endothermic reaction\", \"iron oxide\", \n",
    "       \"reaction * (hydrocarbons|fuels) * water\" ]\n",
    "\n",
    "methane_pyrolysis = [\"pyrolysis\", \"bubble column\", \"molten metal catalyst\", \"solid carbon\"]\n",
    "\n",
    "partial_oxidation = [\"partial oxidation\",\"( |\\()pox( |\\)|,|\\.)\", \"substoichiometric\", \n",
    "                     \"(fuel\\-air|fuel\\-oxygen) mixture\", \"water-gas shift reaction\",\n",
    "                    \"partial. combusted\", \"partial oxidation reactor\"]\n",
    "\n",
    "plasma_reforming = [\"plasma reforming\", \"kvaerner\", \"cb&h\", \"carbon black\", \"plasma arc waste disposal\",\n",
    "                    \"plasma gasification\", \"plasma converter\"]\n",
    "\n",
    "coal_gasification = [\"coal gasification\", \"break molecular bonds in coal\", \"coal * water * (air|oxygen)\",\n",
    "                     \"gaseous mix of hydrogen and carbon monoxide\"]\n",
    "\n",
    "# (2) Eau\n",
    "water_electrolysis = [\"electrolysis\", \"(split|decompose) water\", \"water (splitting|decomposition)\", \n",
    "                      \"potential difference\", \"electrolyser\", \"electrolyte\", \"polymer\", \"amkaline\" ]\n",
    "\n",
    "electrochemically = [\"electrochemically\", \"(methanol|ethanol|formic acid[glycerol) * electrolys\", \n",
    "                     \"sulfur-iodine cycle\", \"s-i cycle\", \"sulfur * iodine\", ]\n",
    "\n",
    "radiolysis = [\"radiolysis\", \"radiolytically\"]\n",
    "\n",
    "thermolysis = [\"thermolysis\"]\n",
    "\n",
    "thermochemical = [\"thermochemical\", \"heat sources * chemical reactions\"]\n",
    "\n",
    "ferrosilicon = [\"ferrosilicon\"]\n",
    "\n",
    "algae = [\"photobiological (water|) splitting\", \"algae\", \"photobioreactor\", \"photosynthesis\"]\n",
    "\n",
    "photocatalytic = [\"photocatalytic\" , \"solar energy to hydrogen\", \"photoelectrochemical cell\", \n",
    "                  \"artificial photosynthesis\" ]\n",
    "\n",
    "# (3) Biohydrgroène\n",
    "fermentative = [\"bioreactor\", \"bacteria\", \"fermentative\", \"organic (substrate|compound)\", \"biohydrogen\",\n",
    "                \"fermentation\"]\n",
    "\n",
    "enzymatic = [\"enzyma\", \"sugars\"]\n",
    "\n",
    "biocatalysed_electrolysis = [\"electrohydrogenesis\", \"microbial fuel cell\", \"biocatalysed electrolysis\", \n",
    "                             \"electrohydrogenesis\", \"electrolysis * microbes\" ]\n",
    "\n",
    "\n",
    "\n",
    "liste_type_pro = [SMR, methane_pyrolysis, partial_oxidation, plasma_reforming, coal_gasification, \n",
    "                  water_electrolysis, electrochemically, radiolysis, thermolysis, thermochemical, \n",
    "                  ferrosilicon, algae, photocatalytic]\n",
    "liste_type_prod_BD = [\"SMR\", \"Pyrolyse du méthane\", \"Oxydation partielle\", \"Reformage plasma\",\n",
    "                      \"Gazéification du charbon\", \"Electrolyse\", \"Electrochimie\", \"Radiolyse\", \"Thermolyse\",\n",
    "                      \"Thermochimie\" , \"Ferrosilicium\", \"Culture d'algues\", \"Fission photocatalytique\",\n",
    "                      \"Fermentation\", \"Production enzymatique\", \"Electrolyse biocatalysée\"]\n",
    "\n",
    "    \n",
    "res = extraction_info2(liste_type_prod_BD, liste_type_pro, title, abstract)\n",
    "df['Production'] = res"
   ]
  },
  {
   "cell_type": "code",
   "execution_count": 28,
   "metadata": {
    "colab": {
     "base_uri": "https://localhost:8080/"
    },
    "id": "LaA4l5eP4a9u",
    "outputId": "ead428d0-557f-4cb3-c7c3-c48d487feb6a"
   },
   "outputs": [
    {
     "name": "stdout",
     "output_type": "stream",
     "text": [
      "Il y a 1848 articles qui mentionnent des types de productions\n"
     ]
    }
   ],
   "source": [
    "cpt = 0 \n",
    "for i in res:\n",
    "    if (i != \"\"):\n",
    "        cpt += 1\n",
    "print(\"Il y a %d articles qui mentionnent des types de productions\" %cpt)"
   ]
  },
  {
   "cell_type": "code",
   "execution_count": 29,
   "metadata": {
    "colab": {
     "base_uri": "https://localhost:8080/"
    },
    "id": "ph2P_a0v4a94",
    "outputId": "33a05764-e284-43f2-b4c5-8ac919e05544"
   },
   "outputs": [
    {
     "data": {
      "text/plain": [
       "                                                                  6591\n",
       "Electrolyse/                                                      1083\n",
       "SMR/                                                               118\n",
       "Culture d'algues/                                                   86\n",
       "SMR/Electrolyse/                                                    72\n",
       "                                                                  ... \n",
       "Pyrolyse du méthane/Gazéification du charbon/Culture d'algues/       1\n",
       "Oxydation partielle/Electrolyse/Culture d'algues/                    1\n",
       "SMR/Culture d'algues/                                                1\n",
       "Pyrolyse du méthane/Reformage plasma/Thermochimie/                   1\n",
       "Pyrolyse du méthane/Gazéification du charbon/                        1\n",
       "Length: 63, dtype: int64"
      ]
     },
     "execution_count": 29,
     "metadata": {},
     "output_type": "execute_result"
    }
   ],
   "source": [
    "pd.Series(res).value_counts()"
   ]
  },
  {
   "cell_type": "code",
   "execution_count": 30,
   "metadata": {
    "colab": {
     "base_uri": "https://localhost:8080/"
    },
    "id": "oucGQISln9Pp",
    "outputId": "59c68b79-dc91-46f0-b34e-801550143242"
   },
   "outputs": [
    {
     "name": "stderr",
     "output_type": "stream",
     "text": [
      "100%|██████████| 8439/8439 [00:16<00:00, 524.57it/s]\n"
     ]
    }
   ],
   "source": [
    "# Domaines\n",
    "militaire = [\"militar\", \"army\", \"soldie\", \"warfare\", \"armed forces\",\n",
    "             \"navy\", \"air force\", \"nato\", \"defence\", \"regiment\", \"fighting\"]  # NATO\n",
    "\n",
    "agriculture = [\"agricultur\", \"cultivat\", \"agronomy\", \"harvest\", \"crops\", \"tractor\", \"sowing\", \"seeding\",\n",
    "               \"gmo\", \"harvest\", \"plough\", \"plow\", \"irrigation\", \"insecticid\", \"herbicide\",\n",
    "               \"weedkiller\", \"seed\", \"farm\", \"fertilizer\", \"fertiliser\", \"cultur\"]\n",
    "\n",
    "astronautique = [\" space\", \"astronautics\", \"orbit\", \"atmosphere\", \"space shuttle\", \"rocket\", \"landing\",\n",
    "                 \"aerodynamic\", \"propulsion\", \"thrust\", \"cosmonaut\", \"jet engine\", \"thales\", \"boeing\", \n",
    "                 \"take-off \", \"takeoff \", \"(gknpz|khrounitchev)\", \"( |'|\\.|,)nasa( |'|\\.|,)\", \"spacex\", \n",
    "                 \"avio( |'|\\.|,)\", \"ariane\", \"united launch alliance\", \"mcdonnell douglas\",\n",
    "                 \"isro\", \"ioujnoïe\"]\n",
    "\n",
    "aéronautique = [\"(aeroplane| plane|airplane)\", \"aircraft\", \"aeronautic\", \"aviation\", \"helicopter\", \n",
    "                \"aerodynamic\", \"boeing\", \"airbus\", \"(transonic|(in|)compressible) flow\",\n",
    "                \"take-off \", \"takeoff \", \"thales\", \"dassault\", \"cessna\", \"bombardier\"]\n",
    "\n",
    "transport_march = [\"charter\", \" (truck|lorry|semitrailer|rig|juggernaut|hgv|heavy goods vehicle)( |s|,|\\.)\",\n",
    "                  \" trailer\", \" container\", \" freight\", \" cargo\", \" shipment\", \" merchant ship\", \"service road\",\n",
    "                  \" logistics\", \" handling\", \" hefting\", \" merchandise\", \" goods\", \" transporter\", \" haulier\",\n",
    "                  \"long-haul * transportation\", \"haulage contractor\", \" carr(ying|ier)\", \"wagon\"]\n",
    "\n",
    "transport_pers = [\"(public|mass|urban|school) (transport|transit)\", \" passenger\", \" occupant\", \" traverl(l|)er\",\n",
    "                         \" voyager\", \"carrriage\", \" (bike|bicycle|yacht|ferry|jet|tram|streetcar|( | motor)bike| motorcycle|\\\n",
    "                         car|automobile|saloon|van|pickup|bus|coach|underground|subwat|metro)( |s|,|\\.)\", ]\n",
    "    \n",
    "politique = [\" decree( |s|,|\\.)\", \" law( |s|,|\\.)\", \" legislation\", \"carbon tax\", \"paris agreement\", \"unfccc\", \" cop\", \n",
    "            \" protocol\", \"cmp [0-9]\", \"cop [0-9]\", \"climate change conference\", \"subsidy\"]\n",
    "\n",
    "automobile = [\"automobile\", \" (saloon|van|pickup|car)( |s|,|\\.)\", \" motoring( |s|,|\\.)\", \"tailpipe\", \n",
    "              \"exhaust pipe\", \"horsepower\", \"dealership\", \"motor rac(ing|e)\", \"hyundai\", \"toyota\", \n",
    "              \"renault\", \"honda\", \"mercedes\", \"( |')audi( |'|\\.|,)\", \"( |'|\\.|,)kia( |'|\\.|,)\", \n",
    "              \"river( |\\-|)simple\", \"nissan\", \"( |'|\\.|,)ford( |'|\\.|,)\", \n",
    "              \"daimler\", \"bmw\", \"hopium\", \"peugeot\", \"volkswagen\", \"general motors\", \"( |'|\\.|,)psa( |'|\\.|,)\",  \"(roland gumpert|apollo automobil|gmbh)\", \n",
    "              \"mazda\", \"aston martin\", \"pininfarina\", \"suzuki\", \"volvo\", \"( |'|\\.|,)opel( |'|\\.|,)\", \"rolls-royce\", \"citroen\", \"( |'|\\.|,)fiat( |'|\\.|,)\", \n",
    "              \"( |'|\\.|,)lancia( |'|\\.|,)\", \"skoda\", \"yamaha\", \"( |'|\\.|,)ktm( |'|\\.|,)\", \"kawasaki\", \"ducati\", \"suzuki\"]\n",
    "\n",
    "ferroviaire = [\" rail\", \" train( |s|,|\\.)\", \"alstom\", \"locomotive\", \"interurbain\", \"wagon\", \"freight car\", \"carrriage\", ]\n",
    "\n",
    "energies_renouv = [\"solar (panel|energy)\", \"wind (power|energy)\", \"hydropower\", \"biofuel\" ,\"renewable (energy|resource)\", \"biomass\", \"firewood\", \"tidal energy\"]\n",
    "\n",
    "energies_fossiles = [\"fossil (energy|fuel)\", \" gas \", \" oil \", \"petroleum\", \" coal \", \" fuels \", \" hydrocarbons\"]\n",
    "\n",
    "performance = [\" horsepower\", \" record \", \" potency \", \" optimum \", \" maximum \", \" performance \", \"battery life\", \n",
    "               \"yield\", \"profitability\", \"cost-effectiveness\", \"financial viability\", \"investment\"]\n",
    "\n",
    "chimie = [\" chemi*\", \" substances\", \" elementary form\", \" matter \", \" atomic \", \"microscop*\", \"catalyst\", \n",
    "          \"colloid\", \"isomer\", \"reactant\", \"satureted\", \"solubility\", \"solvent\", \"(hetero|homo)geneous mixture\"]\n",
    "\n",
    "\n",
    "liste_domaine = [militaire, agriculture, astronautique, aéronautique, transport_march, transport_pers, \n",
    "                 politique, automobile, ferroviaire, energies_renouv, energies_fossiles, performance, chimie]\n",
    "\n",
    "liste_domaine_BD = ['Militaire', 'Agriculture', 'Astronautique', \"Aéronautique\", \"Transport Marchandises\", \n",
    "                   \"Transport Personnes\", \"Politique\", \"Automobile\", \"Ferroviaire\", \"Energies Renouvelables\", \n",
    "                    \"Energies Fossiles\", \"Performance\", \"Chimie\"]\n",
    "\n",
    "\n",
    "res = extraction_info2(liste_domaine_BD, liste_domaine, title, abstract)\n",
    "df['Domaine'] = res"
   ]
  },
  {
   "cell_type": "code",
   "execution_count": 31,
   "metadata": {
    "colab": {
     "base_uri": "https://localhost:8080/"
    },
    "id": "d495gPvB8LkR",
    "outputId": "ef3a307c-4bb1-4948-eccc-9bfc124b58c0"
   },
   "outputs": [
    {
     "name": "stdout",
     "output_type": "stream",
     "text": [
      "Il y a 7918 articles qui mentionnent des domaines\n"
     ]
    }
   ],
   "source": [
    "cpt = 0 \n",
    "for i in res:\n",
    "    if (i != \"\"):\n",
    "        cpt += 1\n",
    "print(\"Il y a %d articles qui mentionnent des domaines\" %cpt)"
   ]
  },
  {
   "cell_type": "code",
   "execution_count": 32,
   "metadata": {
    "colab": {
     "base_uri": "https://localhost:8080/"
    },
    "id": "ax467LIp8W5v",
    "outputId": "97ccacac-cc5d-416a-c10e-dcc914aa834f"
   },
   "outputs": [
    {
     "name": "stdout",
     "output_type": "stream",
     "text": [
      "Militaire 192\n",
      "Agriculture 619\n",
      "Astronautique 1705\n",
      "Aéronautique 1869\n",
      "Transport Marchandises 1177\n",
      "Transport Personnes 1264\n",
      "Politique 707\n",
      "Automobile 1338\n",
      "Ferroviaire 212\n",
      "Energies Renouvelables 1761\n",
      "Energies Fossiles 3620\n",
      "Performance 2380\n",
      "Chimie 3360\n"
     ]
    }
   ],
   "source": [
    "for cat in liste_domaine_BD:\n",
    "    cpt = 0\n",
    "    for i,j in zip(pd.Series(res).value_counts().index, pd.Series(res).value_counts()):\n",
    "        if (cat in i):\n",
    "               cpt += j\n",
    "    print(cat, cpt)"
   ]
  },
  {
   "cell_type": "code",
   "execution_count": 33,
   "metadata": {},
   "outputs": [
    {
     "data": {
      "text/html": [
       "<div>\n",
       "<style scoped>\n",
       "    .dataframe tbody tr th:only-of-type {\n",
       "        vertical-align: middle;\n",
       "    }\n",
       "\n",
       "    .dataframe tbody tr th {\n",
       "        vertical-align: top;\n",
       "    }\n",
       "\n",
       "    .dataframe thead th {\n",
       "        text-align: right;\n",
       "    }\n",
       "</style>\n",
       "<table border=\"1\" class=\"dataframe\">\n",
       "  <thead>\n",
       "    <tr style=\"text-align: right;\">\n",
       "      <th></th>\n",
       "      <th>Id</th>\n",
       "      <th>Date</th>\n",
       "      <th>Auteur</th>\n",
       "      <th>Titre</th>\n",
       "      <th>Langue</th>\n",
       "      <th>MotCle</th>\n",
       "      <th>Pays</th>\n",
       "      <th>Vehicule</th>\n",
       "      <th>Marque</th>\n",
       "      <th>Moteur</th>\n",
       "      <th>Stockage</th>\n",
       "      <th>Production</th>\n",
       "      <th>Domaine</th>\n",
       "    </tr>\n",
       "  </thead>\n",
       "  <tbody>\n",
       "    <tr>\n",
       "      <th>0</th>\n",
       "      <td>6334032</td>\n",
       "      <td>NaN</td>\n",
       "      <td>Hezlin Ashraf-Ball and Andrew J. Oswald and Ja...</td>\n",
       "      <td>Hydrogen Transport and the Spatial Requirement...</td>\n",
       "      <td>English</td>\n",
       "      <td>Renewable energy / wind power / land use / ene...</td>\n",
       "      <td></td>\n",
       "      <td></td>\n",
       "      <td></td>\n",
       "      <td></td>\n",
       "      <td>Gaz/</td>\n",
       "      <td></td>\n",
       "      <td>Energies Renouvelables/Energies Fossiles/</td>\n",
       "    </tr>\n",
       "    <tr>\n",
       "      <th>1</th>\n",
       "      <td>48223</td>\n",
       "      <td>2009-05-01</td>\n",
       "      <td>Andrew J. Oswald and James I. Oswald and Hezli...</td>\n",
       "      <td>Hydrogen transport and the spatial requirement...</td>\n",
       "      <td>English</td>\n",
       "      <td>NaN</td>\n",
       "      <td></td>\n",
       "      <td></td>\n",
       "      <td></td>\n",
       "      <td></td>\n",
       "      <td>Gaz/</td>\n",
       "      <td></td>\n",
       "      <td>Energies Renouvelables/Energies Fossiles/</td>\n",
       "    </tr>\n",
       "    <tr>\n",
       "      <th>2</th>\n",
       "      <td>52955835</td>\n",
       "      <td>2011-01-01</td>\n",
       "      <td>PeiYuan Hsu and Xu Yang and Joshua L. Dibia an...</td>\n",
       "      <td>Design of Residential Hydrogen Fueling System ...</td>\n",
       "      <td>NaN</td>\n",
       "      <td>Faculty research day/</td>\n",
       "      <td></td>\n",
       "      <td>Voiture/</td>\n",
       "      <td></td>\n",
       "      <td></td>\n",
       "      <td>Gaz/</td>\n",
       "      <td></td>\n",
       "      <td>Automobile/Energies Renouvelables/Energies Fos...</td>\n",
       "    </tr>\n",
       "    <tr>\n",
       "      <th>3</th>\n",
       "      <td>70657172</td>\n",
       "      <td>2008-09-24</td>\n",
       "      <td>Maria Antónia Travassos and A. I. Correia de S...</td>\n",
       "      <td>Penetration of hydrogen technologies: study on...</td>\n",
       "      <td>NaN</td>\n",
       "      <td>Road transport-Portugal/ Pollutant emissions/ ...</td>\n",
       "      <td>Portugal/</td>\n",
       "      <td>Voiture/</td>\n",
       "      <td></td>\n",
       "      <td></td>\n",
       "      <td></td>\n",
       "      <td></td>\n",
       "      <td>Transport Personnes/Politique/Automobile/</td>\n",
       "    </tr>\n",
       "    <tr>\n",
       "      <th>4</th>\n",
       "      <td>40069044</td>\n",
       "      <td>2007-01-01</td>\n",
       "      <td>Ivo Veldhuis</td>\n",
       "      <td>Application of hydrogen marine systems in high...</td>\n",
       "      <td>NaN</td>\n",
       "      <td>130 - Mechanical/ industrial/ civil and marine...</td>\n",
       "      <td></td>\n",
       "      <td>Bateau/</td>\n",
       "      <td></td>\n",
       "      <td></td>\n",
       "      <td>Liquide/</td>\n",
       "      <td></td>\n",
       "      <td>Aéronautique/Transport Marchandises/Transport ...</td>\n",
       "    </tr>\n",
       "  </tbody>\n",
       "</table>\n",
       "</div>"
      ],
      "text/plain": [
       "         Id        Date                                             Auteur  \\\n",
       "0   6334032         NaN  Hezlin Ashraf-Ball and Andrew J. Oswald and Ja...   \n",
       "1     48223  2009-05-01  Andrew J. Oswald and James I. Oswald and Hezli...   \n",
       "2  52955835  2011-01-01  PeiYuan Hsu and Xu Yang and Joshua L. Dibia an...   \n",
       "3  70657172  2008-09-24  Maria Antónia Travassos and A. I. Correia de S...   \n",
       "4  40069044  2007-01-01                                       Ivo Veldhuis   \n",
       "\n",
       "                                               Titre   Langue  \\\n",
       "0  Hydrogen Transport and the Spatial Requirement...  English   \n",
       "1  Hydrogen transport and the spatial requirement...  English   \n",
       "2  Design of Residential Hydrogen Fueling System ...      NaN   \n",
       "3  Penetration of hydrogen technologies: study on...      NaN   \n",
       "4  Application of hydrogen marine systems in high...      NaN   \n",
       "\n",
       "                                              MotCle       Pays  Vehicule  \\\n",
       "0  Renewable energy / wind power / land use / ene...                        \n",
       "1                                                NaN                        \n",
       "2                              Faculty research day/             Voiture/   \n",
       "3  Road transport-Portugal/ Pollutant emissions/ ...  Portugal/  Voiture/   \n",
       "4  130 - Mechanical/ industrial/ civil and marine...              Bateau/   \n",
       "\n",
       "  Marque Moteur  Stockage Production  \\\n",
       "0                    Gaz/              \n",
       "1                    Gaz/              \n",
       "2                    Gaz/              \n",
       "3                                      \n",
       "4                Liquide/              \n",
       "\n",
       "                                             Domaine  \n",
       "0          Energies Renouvelables/Energies Fossiles/  \n",
       "1          Energies Renouvelables/Energies Fossiles/  \n",
       "2  Automobile/Energies Renouvelables/Energies Fos...  \n",
       "3          Transport Personnes/Politique/Automobile/  \n",
       "4  Aéronautique/Transport Marchandises/Transport ...  "
      ]
     },
     "execution_count": 33,
     "metadata": {},
     "output_type": "execute_result"
    }
   ],
   "source": [
    "df.head()"
   ]
  },
  {
   "cell_type": "code",
   "execution_count": 34,
   "metadata": {
    "id": "ZpfG3Xv12jNj"
   },
   "outputs": [],
   "source": [
    "df.to_csv(\"df_scraping_final.csv\", index=False)"
   ]
  },
  {
   "cell_type": "code",
   "execution_count": null,
   "metadata": {},
   "outputs": [],
   "source": []
  },
  {
   "cell_type": "code",
   "execution_count": null,
   "metadata": {},
   "outputs": [],
   "source": []
  },
  {
   "cell_type": "code",
   "execution_count": null,
   "metadata": {},
   "outputs": [],
   "source": []
  },
  {
   "cell_type": "code",
   "execution_count": null,
   "metadata": {
    "id": "H1VCujgDkEZE"
   },
   "outputs": [],
   "source": [
    "# Modif schéma \n",
    "# rajouter marque ?  "
   ]
  },
  {
   "cell_type": "code",
   "execution_count": null,
   "metadata": {
    "id": "hVHRhq_8kERq"
   },
   "outputs": [],
   "source": [
    "# Pb : \n",
    "# auteur => différencier nom prénom \n",
    "\n",
    "\n",
    "# Si pls véhicules et plus types de moteur => comment les liés ? (idem avec technologie)\n",
    "# Solutions : \n",
    "# - soit séparer véhicule/tehchnologie/moteur => pour lié technologie au véhicule (ou véhicule / moteur) => faire jointure avec article où il n'y a qu'un seul type de véhicule !!!!!!!!"
   ]
  },
  {
   "cell_type": "code",
   "execution_count": null,
   "metadata": {
    "id": "sW0x1kaJ2jSE"
   },
   "outputs": [],
   "source": []
  },
  {
   "cell_type": "code",
   "execution_count": null,
   "metadata": {
    "id": "gn1tvgx_2jWZ"
   },
   "outputs": [],
   "source": []
  },
  {
   "cell_type": "code",
   "execution_count": null,
   "metadata": {
    "id": "FLVt2s6suF7T"
   },
   "outputs": [],
   "source": [
    "# for pays, pays_BD in zip(liste_pays, liste_pays_BD):\n",
    "#     print(pays)\n",
    "#     re.findall(pays, \"jkfefg\")"
   ]
  },
  {
   "cell_type": "code",
   "execution_count": null,
   "metadata": {
    "id": "xjBB3yzI2jb6"
   },
   "outputs": [],
   "source": []
  },
  {
   "cell_type": "code",
   "execution_count": null,
   "metadata": {
    "id": "ZKXpL8uqdw-q"
   },
   "outputs": [],
   "source": []
  }
 ],
 "metadata": {
  "colab": {
   "collapsed_sections": [],
   "name": "Scraping.ipynb",
   "provenance": [],
   "toc_visible": true
  },
  "kernelspec": {
   "display_name": "Python 3",
   "language": "python",
   "name": "python3"
  },
  "language_info": {
   "codemirror_mode": {
    "name": "ipython",
    "version": 3
   },
   "file_extension": ".py",
   "mimetype": "text/x-python",
   "name": "python",
   "nbconvert_exporter": "python",
   "pygments_lexer": "ipython3",
   "version": "3.7.3"
  },
  "toc": {
   "base_numbering": 1,
   "nav_menu": {},
   "number_sections": true,
   "sideBar": true,
   "skip_h1_title": false,
   "title_cell": "Table of Contents",
   "title_sidebar": "Contents",
   "toc_cell": true,
   "toc_position": {},
   "toc_section_display": true,
   "toc_window_display": false
  }
 },
 "nbformat": 4,
 "nbformat_minor": 1
}
