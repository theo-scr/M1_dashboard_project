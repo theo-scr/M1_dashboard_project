{
 "cells": [
  {
   "cell_type": "markdown",
   "metadata": {
    "toc": true
   },
   "source": [
    "<h1>Table of Contents<span class=\"tocSkip\"></span></h1>\n",
    "<div class=\"toc\"><ul class=\"toc-item\"><li><span><a href=\"#Insertion-dans-la-table-Pays\" data-toc-modified-id=\"Insertion-dans-la-table-Pays-1\"><span class=\"toc-item-num\">1&nbsp;&nbsp;</span>Insertion dans la table Pays</a></span></li></ul></div>"
   ]
  },
  {
   "cell_type": "markdown",
   "metadata": {
    "id": "GDFCWZM1F9q2"
   },
   "source": [
    "# Insertion dans la table Pays"
   ]
  },
  {
   "cell_type": "code",
   "execution_count": 31,
   "metadata": {
    "id": "8KNadDySF9q4"
   },
   "outputs": [],
   "source": [
    "# Import\n",
    "\n",
    "import cx_Oracle\n",
    "from tqdm import tqdm\n",
    "import pandas as pd\n",
    "import numpy as np\n",
    "import re\n",
    "import unicodedata"
   ]
  },
  {
   "cell_type": "code",
   "execution_count": 18,
   "metadata": {
    "colab": {
     "base_uri": "https://localhost:8080/",
     "height": 227
    },
    "id": "NbSK1wRYF9q-",
    "outputId": "520868d9-3b4e-4cc4-b73b-7f398d56cdbf"
   },
   "outputs": [],
   "source": [
    "# Connexion à la base de données\n",
    "mydb = cx_Oracle.connect('SCT2985A/esg@//telline.univ-tlse3.fr:1521/etupre',\n",
    "                         encoding='UTF-8',\n",
    "                         nencoding=\"UTF-8\")\n",
    "mycursor = mydb.cursor()"
   ]
  },
  {
   "cell_type": "code",
   "execution_count": 5,
   "metadata": {
    "id": "8GgK-kZOhTG9"
   },
   "outputs": [],
   "source": [
    "def insert(sql_request, liste):\n",
    "\n",
    "    id = 0\n",
    "\n",
    "    for elem in tqdm(liste):\n",
    "        values = [id, elem]\n",
    "        mycursor.execute(sql_request, values)\n",
    "        id += 1\n",
    "\n",
    "    # On commit\n",
    "    mydb.commit()"
   ]
  },
  {
   "cell_type": "code",
   "execution_count": 4,
   "metadata": {
    "id": "Tw1ZEuvWF9rF"
   },
   "outputs": [
    {
     "name": "stderr",
     "output_type": "stream",
     "text": [
      "100%|██████████| 197/197 [00:07<00:00, 25.11it/s]\n"
     ]
    }
   ],
   "source": [
    "# PAYS\n",
    "liste_pays_BD = [\"Algérie\", \"Angola\", \"Bénin\", \"Botswana\", \"Burkina Faso\", \"Burundi\", \"Cameroun\", \"Cap vert\",\n",
    "                 \"République centrafricaine\", \"Tchad\", \"Comores\", \"Congo\", \"Djibouti\", \"Egypte\",\n",
    "                 \"Guinée équatoriale\", \"Erythree\", \"Ethiopie\", \"Gabon\", \"Gambie\", \"Ghana\", \"Guinée\",\n",
    "                 \"Guinée-Bissau\", \"Côte d'Ivoire\", \"Kenya\", \"Lesotho\", \"Liberia\", \"Libye\", \"Madagascar\", \"Malawi\",\n",
    "                 \"Mali\", \"Mauritanie\", \"Ile Maurice\", \"Maroc\", \"Mozambique\", \"Namibie\", \"Niger\", \"Nigeria\",\n",
    "                 \"Rwanda\", \"Sao Tomé-et-Principe\", \"Sénégal\", \"Seychelles\", \"Sierra Leone\", \"Somalie\",\n",
    "                 \"Afrique du Sud\", \"Soudan\", \"Swaziland\", \"Tanzanie\", \"Togo\", \"Tunisie\", \"Ouganda\", \"Zambie\",\n",
    "                 \"Zimbabwe\", \"Albanie\", \"Andorre\", \"Arménie\", \"Autriche\", \"Azerbaijan\", \"Biélorussie\", \"Belgique\",\n",
    "                 \"Bosnie\", \"Bulgarie\", \"Croatie\", \"Chypre\", \"République Tchèque\", \"Danemark\", \"Estonie\",\n",
    "                 \"Finlande\", \"France\", \"Angleterre\", \"Ecosse\", \"Pays de Galles\", \"Géorgie\", \"Allemagne\", \"Grèce\",\n",
    "                 \"Hongrie\", \"Islande\", \"Irelande\", \"Italie\", \"Lettonie\", \"Liechtenstein\", \"Lituanie\", \"Luxembourg\",\n",
    "                 \"Macédoine\", \"Malte\", \"Moldavie\", \"Monaco\", \"Montenegro\", \"Pays-Bas\", \"Norvège\", \"Pologne\",\n",
    "                 \"Portugal\", \"Roumanie\", \"Saint-Marin\", \"Serbie\", \"Slovaquie\", \"Slovénie\", \"Espagne\", \"Suède\",\n",
    "                 \"Suisse\", \"Ukraine\", \"Royaume-Uni\", \"Vatican\", \"Antigua-et-Barbuda\", \"Bahamas\", \"La Barbade\",\n",
    "                 \"Belize\", \"Canada\", \"Costa Rica\", \"Cuba\", \"Dominique\", \"République dominicaine\", \"El Salvador\",\n",
    "                 \"Grenade\", \"Guatemala\", \"Haiti\", \"Honduras\", \"Jamaique\", \"Mexique\", \"Nicaragua\", \"Paname\",\n",
    "                 \"Saint-Christophe et Niévès\", \"Saint Lucie\", \"Saint Vincent et les Grenadines\",\n",
    "                 \"Trinidad et Tobago\", \"Etats-Unis\", \"Argentine\", \"Bolivie\", \"Brésil\", \"Chili\", \"Colombie\",\n",
    "                 \"Equateur\", \"Guyane\", \"Paraguay\", \"Pérou\", \"Suriname\", \"Uruguay\", \"Venezuela\", \"Afghanistan\",\n",
    "                 \"Bahrein\", \"Bangladesh\", \"Bhoutan\", \"Brunei\", \"Myanmar\", \"Cambodge\", \"Chine\", \"Timor oriental\",\n",
    "                 \"Inde\", \"Indonésie\", \"Iran\", \"Irak\", \"Israël\", \"Japon\", \"Jordanie\", \"Kazakhstan\", \"Corée du Sud\",\n",
    "                 \"Corée du Nord\", \"Koweït\", \"Kyrgyzstan\", \"Laos\", \"Liban\", \"Malaysie\", \"Maldives\", \"Mongolie\",\n",
    "                 \"Népal\", \"Oman\", \"Pakistan\", \"Palestine\", \"Philippines\", \"Qatar\", \"Russie\", \"Arabie Saoudite\",\n",
    "                 \"Singapour\", \"Sri Lanka\", \"Syrie\", \"Tajikistan\", \"Thaïlande\", \"Turquie\", \"Turkmenistan\",\n",
    "                 \"Emirats Arabes Unis\", \"Ouzbekistan\", \"Viêtnam\", \"Yémen\", \"Australie\", \"Fiji\",\n",
    "                 \"République de Kiribati\", \"Iles Marshall\", \"Micronésie\", \"Nauru\", \"Nouvelle-Zélande\", \"Palau\",\n",
    "                 \"Papouasie Nouvelle Guinée\", \"Iles Samoa\", \"Iles Salomon\", \"Tonga\", \"Tuvalu\", \"Vanuatu\",\n",
    "                 \"République Democratique du Congo\"]\n",
    "\n",
    "# Requête SQL\n",
    "sql_request = \"INSERT INTO Pays VALUES ( :1, :2)\"\n",
    "\n",
    "insert(sql_request, liste_pays_BD)"
   ]
  },
  {
   "cell_type": "code",
   "execution_count": 5,
   "metadata": {
    "id": "rbKNM3P7HnXx"
   },
   "outputs": [
    {
     "name": "stderr",
     "output_type": "stream",
     "text": [
      "100%|██████████| 46/46 [00:01<00:00, 24.98it/s]\n"
     ]
    }
   ],
   "source": [
    "# MARQUES\n",
    "liste_marque_BD = [\"Hyundai\", \"Toyota\", \"Renault\", \"Honda\", \"Airbus\", \"Boeing\", \"Thalès\", \"Mercedes\", \"Audi\",\n",
    "                   \"Kia\", \"Riversimple\", \"Nissan\", \"Ford\", \"Daimler\", \"Alstom\", \"BMW\", \"Hopium\", \"Peugeot\",\n",
    "                   \"Volkswagen\", \"General Motors\", \"PSA\", \"Roland Gumpert\", \"Mazda\", \"Aston Martin\", \"Pininfarina\",\n",
    "                   \"Suzuki\", \"Volvo\", \"Opel\", \"Dassault\", \"Cessna\", \"Bombardier\", \"MiG\", \"Diamond\", \"ZeroAvia\",\n",
    "                   \"Rolls-Royce\", \"Eviation\", \"Khrounitchev\", \"NASA\", \"SpaceX\", \"Avio\", \"ArianeGroup\",\n",
    "                   \"United Launch Alliance\", \"McDonnell Douglas\", \"Mitsubishi Heavy Industries\", \"ISRO\",\n",
    "                   \"Ioujnoie\"]\n",
    "\n",
    "# Requête SQL\n",
    "sql_request = \"INSERT INTO Marque VALUES ( :1, :2)\"\n",
    "\n",
    "insert(sql_request, liste_marque_BD)"
   ]
  },
  {
   "cell_type": "code",
   "execution_count": 6,
   "metadata": {
    "id": "IigkDQoShFay"
   },
   "outputs": [
    {
     "name": "stderr",
     "output_type": "stream",
     "text": [
      "100%|██████████| 4/4 [00:00<00:00, 23.49it/s]\n"
     ]
    }
   ],
   "source": [
    "# DOMAINES\n",
    "liste_domaine_BD = ['Militaire', 'Agriculture', 'Astronautique', \"Aéronautique\"]\n",
    "\n",
    "# Requête SQL\n",
    "sql_request = \"INSERT INTO Domaine VALUES ( :1, :2)\"\n",
    "\n",
    "insert(sql_request, liste_domaine_BD)"
   ]
  },
  {
   "cell_type": "code",
   "execution_count": 7,
   "metadata": {
    "id": "nEPT7wWAh7Cz"
   },
   "outputs": [
    {
     "name": "stderr",
     "output_type": "stream",
     "text": [
      "100%|██████████| 12/12 [00:00<00:00, 23.00it/s]\n"
     ]
    }
   ],
   "source": [
    "# VEHICULES\n",
    "liste_vehicule_BD = [\"Train\", \"Tracteur\", \"Vélo\", \"Bateau\", \"Avion\", \"Voiture\", \"Camion\", \"Bus\", \"Fusée\",\n",
    "                     \"Hélicoptère\", \"Moto\", \"Tramway\"]\n",
    "\n",
    "# Requête SQL\n",
    "sql_request = \"INSERT INTO Vehicule VALUES ( :1, :2)\"\n",
    "\n",
    "insert(sql_request, liste_vehicule_BD)"
   ]
  },
  {
   "cell_type": "code",
   "execution_count": 8,
   "metadata": {
    "id": "pIUlMAJ4h7Gc"
   },
   "outputs": [
    {
     "name": "stderr",
     "output_type": "stream",
     "text": [
      "100%|██████████| 4/4 [00:00<00:00, 23.44it/s]\n"
     ]
    }
   ],
   "source": [
    "# MOTEURS \n",
    "liste_moteur_BD = [\"Combustion interne\", \"Réaction\",  \"Pile à combustible\", \"Hybride\"]\n",
    "\n",
    "# Requête SQL\n",
    "sql_request = \"INSERT INTO Moteur  VALUES ( :1, :2)\"\n",
    "\n",
    "insert(sql_request, liste_moteur_BD)"
   ]
  },
  {
   "cell_type": "code",
   "execution_count": null,
   "metadata": {
    "id": "AhLnTA53_E2-"
   },
   "outputs": [],
   "source": [
    "#####"
   ]
  },
  {
   "cell_type": "code",
   "execution_count": 9,
   "metadata": {
    "id": "Y1USNNk0h6_8"
   },
   "outputs": [],
   "source": [
    "# TECHONOLOGIES\n",
    "liste_type_prod_BD_H = [\"SMR\", \"Pyrolyse du méthane\", \"Oxydation partielle\", \"Reformage plasma\",\n",
    "                        \"Gazéification du charbon\"]\n",
    "\n",
    "liste_type_prod_BD_E = [\"Electrolyse\", \"Electrochimie\", \"Radiolyse\", \"Thermolyse\", \"Thermochimie\",\n",
    "                        \"Ferrosilicium\", \"Culture d'algues\", \"Fission photocatalytique\"]\n",
    "\n",
    "liste_type_prod_BD_A = [\"Fermentation\", \"Production enzymatique\", \"Electrolyse biocatalysée\"]\n",
    "\n",
    "\n",
    "liste_stockage_BD = ['Gaz', 'Liquide', 'Solide']\n",
    "\n",
    "\n",
    "# Requête SQL\n",
    "sql_request = \"INSERT INTO Technologie VALUES ( :1, :2, :3, :4)\"\n",
    "\n",
    "\n",
    "id_techno = 0\n",
    "cpt = 0\n",
    "\n",
    "for liste in tqdm([liste_type_prod_BD_H, liste_type_prod_BD_E, liste_type_prod_BD_A, liste_stockage_BD]):\n",
    "    if (cpt != 3):\n",
    "        cat = 'Production'\n",
    "    else:\n",
    "        cat = 'Stockage'\n",
    "\n",
    "    if (cpt == 0):\n",
    "        source = 'Hydraucarbures'\n",
    "    elif (cpt == 1):\n",
    "        source = 'Eau'\n",
    "    elif (cpt == 2):\n",
    "        source = 'Autre'\n",
    "    else:\n",
    "        source = None\n",
    "\n",
    "    for techno in liste:\n",
    "        values = [id_techno, techno, cat, source]\n",
    "        mycursor.execute(sql_request, values)\n",
    "        id_techno += 1\n",
    "    cpt += 1\n",
    "\n",
    "# On commit\n",
    "mydb.commit()"
   ]
  },
  {
   "cell_type": "code",
   "execution_count": null,
   "metadata": {},
   "outputs": [],
   "source": [
    "#####"
   ]
  },
  {
   "cell_type": "code",
   "execution_count": null,
   "metadata": {},
   "outputs": [],
   "source": []
  },
  {
   "cell_type": "code",
   "execution_count": 3,
   "metadata": {},
   "outputs": [
    {
     "data": {
      "text/plain": [
       "(8439, 13)"
      ]
     },
     "execution_count": 3,
     "metadata": {},
     "output_type": "execute_result"
    }
   ],
   "source": [
    "df = pd.read_csv(\"../scraping/df_scraping_final.csv\",\n",
    "                 sep=',', index_col=False, encoding='utf-8')\n",
    "df.shape"
   ]
  },
  {
   "cell_type": "code",
   "execution_count": 4,
   "metadata": {},
   "outputs": [
    {
     "data": {
      "text/html": [
       "<div>\n",
       "<style scoped>\n",
       "    .dataframe tbody tr th:only-of-type {\n",
       "        vertical-align: middle;\n",
       "    }\n",
       "\n",
       "    .dataframe tbody tr th {\n",
       "        vertical-align: top;\n",
       "    }\n",
       "\n",
       "    .dataframe thead th {\n",
       "        text-align: right;\n",
       "    }\n",
       "</style>\n",
       "<table border=\"1\" class=\"dataframe\">\n",
       "  <thead>\n",
       "    <tr style=\"text-align: right;\">\n",
       "      <th></th>\n",
       "      <th>Id</th>\n",
       "      <th>Date</th>\n",
       "      <th>Auteur</th>\n",
       "      <th>Titre</th>\n",
       "      <th>Langue</th>\n",
       "      <th>MotCle</th>\n",
       "      <th>Pays</th>\n",
       "      <th>Vehicule</th>\n",
       "      <th>Marque</th>\n",
       "      <th>Moteur</th>\n",
       "      <th>Stockage</th>\n",
       "      <th>Production</th>\n",
       "      <th>Domaine</th>\n",
       "    </tr>\n",
       "  </thead>\n",
       "  <tbody>\n",
       "    <tr>\n",
       "      <th>0</th>\n",
       "      <td>6334032</td>\n",
       "      <td>NaN</td>\n",
       "      <td>Hezlin Ashraf-Ball and Andrew J. Oswald and Ja...</td>\n",
       "      <td>Hydrogen Transport and the Spatial Requirement...</td>\n",
       "      <td>English</td>\n",
       "      <td>Renewable energy / wind power / land use / ene...</td>\n",
       "      <td>NaN</td>\n",
       "      <td>NaN</td>\n",
       "      <td>NaN</td>\n",
       "      <td>NaN</td>\n",
       "      <td>Gaz/</td>\n",
       "      <td>NaN</td>\n",
       "      <td>NaN</td>\n",
       "    </tr>\n",
       "    <tr>\n",
       "      <th>1</th>\n",
       "      <td>48223</td>\n",
       "      <td>2009-05-01</td>\n",
       "      <td>Andrew J. Oswald and James I. Oswald and Hezli...</td>\n",
       "      <td>Hydrogen transport and the spatial requirement...</td>\n",
       "      <td>English</td>\n",
       "      <td>NaN</td>\n",
       "      <td>NaN</td>\n",
       "      <td>NaN</td>\n",
       "      <td>NaN</td>\n",
       "      <td>NaN</td>\n",
       "      <td>Gaz/</td>\n",
       "      <td>NaN</td>\n",
       "      <td>NaN</td>\n",
       "    </tr>\n",
       "    <tr>\n",
       "      <th>2</th>\n",
       "      <td>52955835</td>\n",
       "      <td>2011-01-01</td>\n",
       "      <td>PeiYuan Hsu and Xu Yang and Joshua L. Dibia an...</td>\n",
       "      <td>Design of Residential Hydrogen Fueling System ...</td>\n",
       "      <td>NaN</td>\n",
       "      <td>Faculty research day/</td>\n",
       "      <td>NaN</td>\n",
       "      <td>Voiture/</td>\n",
       "      <td>NaN</td>\n",
       "      <td>NaN</td>\n",
       "      <td>Gaz/</td>\n",
       "      <td>NaN</td>\n",
       "      <td>NaN</td>\n",
       "    </tr>\n",
       "    <tr>\n",
       "      <th>3</th>\n",
       "      <td>70657172</td>\n",
       "      <td>2008-09-24</td>\n",
       "      <td>Maria Antónia Travassos and A. I. Correia de S...</td>\n",
       "      <td>Penetration of hydrogen technologies: study on...</td>\n",
       "      <td>NaN</td>\n",
       "      <td>Road transport-Portugal/ Pollutant emissions/ ...</td>\n",
       "      <td>Portugal/</td>\n",
       "      <td>Voiture/</td>\n",
       "      <td>NaN</td>\n",
       "      <td>NaN</td>\n",
       "      <td>NaN</td>\n",
       "      <td>NaN</td>\n",
       "      <td>NaN</td>\n",
       "    </tr>\n",
       "    <tr>\n",
       "      <th>4</th>\n",
       "      <td>40069044</td>\n",
       "      <td>2007-01-01</td>\n",
       "      <td>Ivo Veldhuis</td>\n",
       "      <td>Application of hydrogen marine systems in high...</td>\n",
       "      <td>NaN</td>\n",
       "      <td>130 - Mechanical/ industrial/ civil and marine...</td>\n",
       "      <td>NaN</td>\n",
       "      <td>Bateau/</td>\n",
       "      <td>NaN</td>\n",
       "      <td>NaN</td>\n",
       "      <td>Liquide/</td>\n",
       "      <td>NaN</td>\n",
       "      <td>Aéronautique/</td>\n",
       "    </tr>\n",
       "  </tbody>\n",
       "</table>\n",
       "</div>"
      ],
      "text/plain": [
       "         Id        Date                                             Auteur  \\\n",
       "0   6334032         NaN  Hezlin Ashraf-Ball and Andrew J. Oswald and Ja...   \n",
       "1     48223  2009-05-01  Andrew J. Oswald and James I. Oswald and Hezli...   \n",
       "2  52955835  2011-01-01  PeiYuan Hsu and Xu Yang and Joshua L. Dibia an...   \n",
       "3  70657172  2008-09-24  Maria Antónia Travassos and A. I. Correia de S...   \n",
       "4  40069044  2007-01-01                                       Ivo Veldhuis   \n",
       "\n",
       "                                               Titre   Langue  \\\n",
       "0  Hydrogen Transport and the Spatial Requirement...  English   \n",
       "1  Hydrogen transport and the spatial requirement...  English   \n",
       "2  Design of Residential Hydrogen Fueling System ...      NaN   \n",
       "3  Penetration of hydrogen technologies: study on...      NaN   \n",
       "4  Application of hydrogen marine systems in high...      NaN   \n",
       "\n",
       "                                              MotCle       Pays  Vehicule  \\\n",
       "0  Renewable energy / wind power / land use / ene...        NaN       NaN   \n",
       "1                                                NaN        NaN       NaN   \n",
       "2                              Faculty research day/        NaN  Voiture/   \n",
       "3  Road transport-Portugal/ Pollutant emissions/ ...  Portugal/  Voiture/   \n",
       "4  130 - Mechanical/ industrial/ civil and marine...        NaN   Bateau/   \n",
       "\n",
       "  Marque Moteur  Stockage Production        Domaine  \n",
       "0    NaN    NaN      Gaz/        NaN            NaN  \n",
       "1    NaN    NaN      Gaz/        NaN            NaN  \n",
       "2    NaN    NaN      Gaz/        NaN            NaN  \n",
       "3    NaN    NaN       NaN        NaN            NaN  \n",
       "4    NaN    NaN  Liquide/        NaN  Aéronautique/  "
      ]
     },
     "execution_count": 4,
     "metadata": {},
     "output_type": "execute_result"
    }
   ],
   "source": [
    "df.head()\n",
    "# (!) id en double"
   ]
  },
  {
   "cell_type": "code",
   "execution_count": null,
   "metadata": {
    "id": "pdrK0SwrDNv2"
   },
   "outputs": [],
   "source": [
    "# Normalmeent ok : \n",
    "# FAIRE UN DROP DUPLICATES SUR LA JOINTURE DES DF !! (notebook précédent)\n",
    "# drop duplicates sur tout ou juste sur titre, auteur, etc ? (plutot sur tout pour garder un nb d'articles sup à 8000 )\n",
    "### (!)(!)(!)(!)(!)(!)(!) regarder les doublons sur id ! "
   ]
  },
  {
   "cell_type": "code",
   "execution_count": 62,
   "metadata": {
    "id": "IsuAv9Kwh7Jk"
   },
   "outputs": [
    {
     "name": "stderr",
     "output_type": "stream",
     "text": [
      "  0%|          | 0/8439 [00:00<?, ?it/s]\n"
     ]
    },
    {
     "ename": "IntegrityError",
     "evalue": "ORA-00001: violation de contrainte unique (SCT2985A.PK_AUTEUR)",
     "output_type": "error",
     "traceback": [
      "\u001b[0;31m---------------------------------------------------------------------------\u001b[0m",
      "\u001b[0;31mIntegrityError\u001b[0m                            Traceback (most recent call last)",
      "\u001b[0;32m<ipython-input-62-36cfcff6c1c8>\u001b[0m in \u001b[0;36m<module>\u001b[0;34m\u001b[0m\n\u001b[1;32m     28\u001b[0m \u001b[0;34m\u001b[0m\u001b[0m\n\u001b[1;32m     29\u001b[0m                 \u001b[0mvalues\u001b[0m \u001b[0;34m=\u001b[0m \u001b[0;34m[\u001b[0m\u001b[0mid_auteurs\u001b[0m\u001b[0;34m,\u001b[0m \u001b[0mauteur_BD\u001b[0m\u001b[0;34m]\u001b[0m\u001b[0;34m\u001b[0m\u001b[0;34m\u001b[0m\u001b[0m\n\u001b[0;32m---> 30\u001b[0;31m                 \u001b[0mmycursor\u001b[0m\u001b[0;34m.\u001b[0m\u001b[0mexecute\u001b[0m\u001b[0;34m(\u001b[0m\u001b[0msql_request_auteurs\u001b[0m\u001b[0;34m,\u001b[0m \u001b[0mvalues\u001b[0m\u001b[0;34m)\u001b[0m\u001b[0;34m\u001b[0m\u001b[0;34m\u001b[0m\u001b[0m\n\u001b[0m\u001b[1;32m     31\u001b[0m                 \u001b[0mid_auteurs\u001b[0m \u001b[0;34m+=\u001b[0m \u001b[0;36m1\u001b[0m\u001b[0;34m\u001b[0m\u001b[0;34m\u001b[0m\u001b[0m\n\u001b[1;32m     32\u001b[0m \u001b[0;34m\u001b[0m\u001b[0m\n",
      "\u001b[0;31mIntegrityError\u001b[0m: ORA-00001: violation de contrainte unique (SCT2985A.PK_AUTEUR)"
     ]
    }
   ],
   "source": [
    "# AUTEURS\n",
    "col_auteurs = df['Auteur']\n",
    "auteurs_deja_inseres = set()\n",
    "id_auteurs = 0\n",
    "sql_request_auteurs = \"INSERT INTO Auteur  VALUES ( :1, :2)\"\n",
    "auteur_utf8 = dict()\n",
    "\n",
    "for auteurs in tqdm(col_auteurs):\n",
    "    if (auteurs is not np.nan):\n",
    "        auteurs = auteurs.split(' and ')\n",
    "\n",
    "        # on enlève nb et caractère spéciaux\n",
    "        # mets en minuscule tout, puis mets que les première lettre en majuscule puis enlèev espace avant et après\n",
    "        auteurs = [re.sub(\"([0-9]|(\\((.*?)\\))|\\-|\\(|\\)|#|\\?|&|\\[|\\]|�|!)\",\n",
    "                          \"\", elem).lower().strip().title() for elem in auteurs]\n",
    "\n",
    "        # Supprimer les espaces en trop\n",
    "        auteurs = [' '.join(elem.split()) for elem in auteurs]\n",
    "        # Rmq : on ne peut pas utiliser la fonction créée précédemment car il faut vérifier que l'auteur que l'on veut insérer n'a pas déjà été inséré dans la BD\n",
    "        for auteur in auteurs:\n",
    "            if auteur not in auteurs_deja_inseres and len(auteur) > 2:\n",
    "                auteurs_deja_inseres.add(auteur)\n",
    "                try:\n",
    "                    auteur_BD = str(auteur.encode('ascii'))[2:-1]\n",
    "\n",
    "                except:\n",
    "                    auteur_BD = str(auteur.encode())[2:-1]\n",
    "                    auteur_utf8[auteur] = auteur_BD\n",
    "\n",
    "                values = [id_auteurs, auteur_BD]\n",
    "                mycursor.execute(sql_request_auteurs, values)\n",
    "                id_auteurs += 1\n",
    "\n",
    "# On commit\n",
    "mydb.commit()"
   ]
  },
  {
   "cell_type": "code",
   "execution_count": 34,
   "metadata": {},
   "outputs": [
    {
     "name": "stdout",
     "output_type": "stream",
     "text": [
      "20394 1699\n"
     ]
    }
   ],
   "source": [
    "print(len(auteurs_deja_inseres), len(auteur_utf8))"
   ]
  },
  {
   "cell_type": "code",
   "execution_count": 95,
   "metadata": {},
   "outputs": [],
   "source": [
    "def nettoyer(date):\n",
    "    if (type(date) == str):\n",
    "        if (len(date) == 10 and date[4] == '-' and date[7] == '-'):\n",
    "            annee = date[:4]\n",
    "            mois = date[5:7]\n",
    "            jour = date[-2:]\n",
    "\n",
    "            if (int(mois) < 1 or int(mois) > 12):\n",
    "                mois = '01'\n",
    "            if (int(jour) < 1 or int(jour) > 31):\n",
    "                jour = '01'\n",
    "\n",
    "            date = jour + '-' + mois + '-' + annee\n",
    "\n",
    "        elif (len(date) == 6 and date[0] == '[' and date[-1] == ']'):\n",
    "            annee = date[1:-1]\n",
    "            date = '01-01-' + annee\n",
    "\n",
    "        elif (len(date) == 4 and ('19' in date or '20' in date)):\n",
    "            date = '01-01-' + date\n",
    "\n",
    "        else:\n",
    "            if (re.search(\"(19|20)[0-9]{2}\", date) is not None):\n",
    "                pos = re.search(\"(19|20)[0-9]{2}\", date).start()\n",
    "                annee = date[pos:pos+4]\n",
    "                date = '01-01-' + annee\n",
    "            else:\n",
    "                date = None\n",
    "    else:\n",
    "        date = None\n",
    "    return date"
   ]
  },
  {
   "cell_type": "code",
   "execution_count": 98,
   "metadata": {
    "id": "_2w6QwPk-hcR"
   },
   "outputs": [
    {
     "name": "stderr",
     "output_type": "stream",
     "text": [
      "100%|██████████| 8439/8439 [11:56<00:00, 11.77it/s]  \n"
     ]
    }
   ],
   "source": [
    "# ARTICLES\n",
    "ids = df['Id']\n",
    "titres = df['Titre'].apply(lambda x: None if (\n",
    "    x is np.nan) else x.lower().capitalize())\n",
    "langues = df['Langue'].apply(lambda x: None if x == 'Undetermined' else x).apply(\n",
    "    lambda x: None if (x is np.nan) else x)\n",
    "dates = df['Date'].apply(lambda x: nettoyer(x))\n",
    "\n",
    "sql_request_articles = \"INSERT INTO Article  VALUES ( :1, :2, :3, :4)\"\n",
    "\n",
    "# Rmq : on a effectué un drop duplicate préalablement => pas de risque de doublons\n",
    "for id, titre, langue, date in zip(tqdm(ids), titres, langues, dates):\n",
    "    values = [id, titre, langue, date]\n",
    "    mycursor.execute(sql_request_articles, values)\n",
    "\n",
    "# On commit\n",
    "mydb.commit()"
   ]
  },
  {
   "cell_type": "code",
   "execution_count": 17,
   "metadata": {},
   "outputs": [],
   "source": []
  },
  {
   "cell_type": "code",
   "execution_count": null,
   "metadata": {
    "id": "AJJD86LOh7Mv"
   },
   "outputs": [],
   "source": [
    "# MOT CLE\n",
    "# nétoyyer mot clé => enlever ponctuation (pas toutes ! mais les parentèses pâs les - )\n",
    "# enelver espace avant après (et en trop au milieu)\n",
    "# majuscule ? \n",
    "# voir NLP comment netoyyer mot OU \n",
    "# fonction tanguy porjet interpromo ? "
   ]
  },
  {
   "cell_type": "code",
   "execution_count": 38,
   "metadata": {},
   "outputs": [],
   "source": []
  },
  {
   "cell_type": "code",
   "execution_count": 32,
   "metadata": {},
   "outputs": [],
   "source": [
    "def cleanning(item: str, special_character: list):\n",
    "\n",
    "    # Convert text to lowercase\n",
    "    item: str = item.lower()\n",
    "\n",
    "    iteam: str = re.sub(\"((\\((.*?)\\))|)\", \"\", item)\n",
    "\n",
    "    # Step 1 : Remove accents\n",
    "    item = unicodedata.normalize('NFD', str(item)).encode(\n",
    "        'ascii', 'ignore').decode(\"utf-8\")\n",
    "\n",
    "    # Step 2 : Remove Special character\n",
    "    for i in special_character:\n",
    "\n",
    "        item = item.replace(i, \"\")\n",
    "\n",
    "    # Remove whitespaces\n",
    "    item = item.strip()\n",
    "    result = ' '.join(item.split())\n",
    "\n",
    "    # Return my cleaned article\n",
    "    return result"
   ]
  },
  {
   "cell_type": "code",
   "execution_count": 33,
   "metadata": {},
   "outputs": [],
   "source": [
    "special_character: list = [\"!\", \"\\\"\", \"#\", \"$\", \"%\", \"&\", \"\\\\\", \"(\",\n",
    "                           \")\", \"*\", \"+\", \",\", \"-\", \".\", \":\", \";\",\n",
    "                           \"<\", \"=\", \">\", \"?\", \"@\", \"[\", \"]\", \"^\", \"_\",\n",
    "                           \"{\", \"|\", \"}\", \"~\", \"«\", \"»\", \"’\", \"•\", \"…\",\n",
    "                           \"â\", \"€\", \"™\", \"—\", \"�\", \"–\", \"“\", \"”\"]"
   ]
  },
  {
   "cell_type": "code",
   "execution_count": 34,
   "metadata": {},
   "outputs": [],
   "source": [
    "col_motcle = df['MotCle']\n",
    "\n",
    "col_motcle = col_motcle.apply(\n",
    "    lambda x: x if x is np.nan else cleanning(x, special_character))"
   ]
  },
  {
   "cell_type": "code",
   "execution_count": 35,
   "metadata": {},
   "outputs": [
    {
     "data": {
      "text/plain": [
       "0       renewable energy / wind power / land use / ene...\n",
       "1                                                     NaN\n",
       "2                                   faculty research day/\n",
       "3       road transportportugal/ pollutant emissions/ c...\n",
       "4       130 mechanical/ industrial/ civil and marine e...\n",
       "                              ...                        \n",
       "8434                                                  NaN\n",
       "8435                                                  NaN\n",
       "8436                                                  NaN\n",
       "8437                                                  NaN\n",
       "8438                                                  NaN\n",
       "Name: MotCle, Length: 8439, dtype: object"
      ]
     },
     "execution_count": 35,
     "metadata": {},
     "output_type": "execute_result"
    }
   ],
   "source": [
    "col_motcle"
   ]
  },
  {
   "cell_type": "code",
   "execution_count": 63,
   "metadata": {},
   "outputs": [
    {
     "name": "stderr",
     "output_type": "stream",
     "text": [
      "100%|██████████| 8439/8439 [03:47<00:00, 37.02it/s]  \n"
     ]
    }
   ],
   "source": [
    "# MOTS CLES '\n",
    "mots_deja_inseres = set()\n",
    "id_mot = 0\n",
    "sql_request = \"INSERT INTO MotCle  VALUES ( :1, :2)\"\n",
    "\n",
    "for mots in tqdm(col_motcle):\n",
    "    if (mots is not np.nan):\n",
    "        mots = mots.split('/')\n",
    "\n",
    "        # Supprimer les espaces en trop\n",
    "        mots = [' '.join(elem.split()) for elem in mots]\n",
    "\n",
    "        for mot in mots:\n",
    "            mot = mot.capitalize()\n",
    "\n",
    "            if mot not in mots_deja_inseres and len(mot) > 2 and len(mot) < 150:\n",
    "                mots_deja_inseres.add(mot)\n",
    "                values = [id_mot, mot]\n",
    "                mycursor.execute(sql_request, values)\n",
    "                id_mot += 1\n",
    "\n",
    "# On commit\n",
    "mydb.commit()"
   ]
  },
  {
   "cell_type": "code",
   "execution_count": 64,
   "metadata": {},
   "outputs": [
    {
     "data": {
      "text/plain": [
       "5859"
      ]
     },
     "execution_count": 64,
     "metadata": {},
     "output_type": "execute_result"
    }
   ],
   "source": [
    "len(mots_deja_inseres)"
   ]
  },
  {
   "cell_type": "code",
   "execution_count": null,
   "metadata": {},
   "outputs": [],
   "source": [
    "#################################################################"
   ]
  },
  {
   "cell_type": "code",
   "execution_count": 24,
   "metadata": {},
   "outputs": [],
   "source": [
    "def insert2(relation, col, att, nom_id_att):\n",
    "    sql_request = \"INSERT INTO \" + relation + \"_Evoq VALUES ( :1, :2)\"\n",
    "    for chaine_att, id in zip(tqdm(df[col]), df['Id']):\n",
    "\n",
    "        if (chaine_att is not np.nan):\n",
    "            liste_att = chaine_att.split('/')\n",
    "            liste_att = [elem for elem in liste_att if len(elem) > 1]\n",
    "\n",
    "            for elem in liste_att:\n",
    "                elem = elem.replace(\"'\", \"''\")\n",
    "                sql_request_select = \"SELECT \" + nom_id_att + \" FROM \" + \\\n",
    "                    relation + \" WHERE \" + att + \" = '\" + elem + \"'\"\n",
    "                res = mycursor.execute(sql_request_select)\n",
    "                id_att = [row[0] for row in res][0]\n",
    "                values = [id, id_att]\n",
    "                mycursor.execute(sql_request, values)\n",
    "\n",
    "    # On commit\n",
    "    mydb.commit()"
   ]
  },
  {
   "cell_type": "code",
   "execution_count": 21,
   "metadata": {},
   "outputs": [
    {
     "name": "stderr",
     "output_type": "stream",
     "text": [
      "100%|██████████| 8439/8439 [04:00<00:00, 35.06it/s] \n"
     ]
    }
   ],
   "source": [
    "insert2(\"Pays\", \"Pays\", \"nom_pays\", \"id_pays\")"
   ]
  },
  {
   "cell_type": "code",
   "execution_count": 27,
   "metadata": {},
   "outputs": [
    {
     "name": "stderr",
     "output_type": "stream",
     "text": [
      "100%|██████████| 8439/8439 [06:32<00:00, 21.48it/s]  \n"
     ]
    }
   ],
   "source": [
    "insert2(\"Moteur\", \"Moteur\", \"type_moteur\", \"id_moteur\")"
   ]
  },
  {
   "cell_type": "code",
   "execution_count": 9,
   "metadata": {},
   "outputs": [
    {
     "name": "stderr",
     "output_type": "stream",
     "text": [
      "100%|██████████| 8439/8439 [04:37<00:00, 30.43it/s] \n"
     ]
    }
   ],
   "source": [
    "insert2(\"Vehicule\", \"Vehicule\", \"type_vehicule\", \"id_vehicule\")"
   ]
  },
  {
   "cell_type": "code",
   "execution_count": 69,
   "metadata": {},
   "outputs": [
    {
     "name": "stderr",
     "output_type": "stream",
     "text": [
      "100%|██████████| 8439/8439 [06:33<00:00, 21.47it/s]\n"
     ]
    }
   ],
   "source": [
    "insert2(\"Domaine\", \"Domaine\", \"nom_domaine\", \"id_domaine\")"
   ]
  },
  {
   "cell_type": "code",
   "execution_count": 70,
   "metadata": {},
   "outputs": [
    {
     "name": "stderr",
     "output_type": "stream",
     "text": [
      "100%|██████████| 8439/8439 [01:17<00:00, 108.70it/s]\n"
     ]
    }
   ],
   "source": [
    "insert2(\"Marque\", \"Marque\", \"nom_marque\", \"id_marque\")"
   ]
  },
  {
   "cell_type": "code",
   "execution_count": 19,
   "metadata": {},
   "outputs": [
    {
     "name": "stderr",
     "output_type": "stream",
     "text": [
      "100%|██████████| 8439/8439 [04:06<00:00, 34.24it/s]\n"
     ]
    }
   ],
   "source": [
    "insert2(\"Technologie\", \"Stockage\", \"nom_tech\", \"id_tech\")"
   ]
  },
  {
   "cell_type": "code",
   "execution_count": 26,
   "metadata": {},
   "outputs": [
    {
     "name": "stderr",
     "output_type": "stream",
     "text": [
      "100%|██████████| 8439/8439 [03:16<00:00, 43.04it/s] \n"
     ]
    }
   ],
   "source": [
    "insert2(\"Technologie\", \"Production\", \"nom_tech\", \"id_tech\")"
   ]
  },
  {
   "cell_type": "code",
   "execution_count": 39,
   "metadata": {},
   "outputs": [],
   "source": [
    "mydb.rollback()"
   ]
  },
  {
   "cell_type": "code",
   "execution_count": 41,
   "metadata": {},
   "outputs": [
    {
     "name": "stderr",
     "output_type": "stream",
     "text": [
      "100%|██████████| 8439/8439 [22:43<00:00,  6.19it/s]  \n"
     ]
    }
   ],
   "source": [
    "sql_request = \"INSERT INTO MotsCle_Evoq VALUES ( :1, :2)\"\n",
    "\n",
    "for chaine_mot, id in zip(tqdm(col_motcle), df['Id']):\n",
    "\n",
    "    if (chaine_mot is not np.nan):\n",
    "        mots = chaine_mot.split('/')\n",
    "        mots = [elem for elem in mots if len(elem) > 1]\n",
    "\n",
    "        # Supprimer les espaces en trop\n",
    "        mots = [' '.join(elem.split()) for elem in mots]\n",
    "\n",
    "        # enlever les doublons eventuels -> pb de doublement de PK sinon\n",
    "        mots = list(set(mots))\n",
    "\n",
    "        for mot in mots:\n",
    "            mot = mot.capitalize()\n",
    "            if len(mot) > 2 and len(mot) < 150:\n",
    "                mot = mot.replace(\"'\", \"''\")\n",
    "                sql_request_select = \"SELECT id_motcle FROM Motcle WHERE mot = '\" + mot + \"'\"\n",
    "                res = mycursor.execute(sql_request_select)\n",
    "                id_att = [row[0] for row in res][0]\n",
    "                values = [id, id_att]\n",
    "                mycursor.execute(sql_request, values)\n",
    "\n",
    "    # On commit\n",
    "    mydb.commit()"
   ]
  },
  {
   "cell_type": "code",
   "execution_count": 13,
   "metadata": {},
   "outputs": [
    {
     "name": "stderr",
     "output_type": "stream",
     "text": [
      "100%|██████████| 4000/4000 [24:49<00:00,  2.68it/s]  \n",
      "100%|██████████| 4439/4439 [33:00<00:00,  2.24it/s]  \n"
     ]
    }
   ],
   "source": [
    "sql_request = \"INSERT INTO Auteur_Evoq VALUES ( :1, :2)\"\n",
    "\n",
    "auteur1 = df[\"Auteur\"].iloc[:4000]\n",
    "id1 = df['Id'].iloc[:4000]\n",
    "auteur2 = df[\"Auteur\"].iloc[4000:]\n",
    "id2 = df['Id'].iloc[4000:]\n",
    "\n",
    "for col_att, col_id in zip([auteur1, auteur2], [id1, id2]):\n",
    "    for chaine_att, id in zip(tqdm(col_att), col_id):\n",
    "\n",
    "        if (chaine_att is not np.nan):\n",
    "            liste_att = chaine_att.split(' and ')\n",
    "            # on enlève nb et caractère spéciaux\n",
    "            # mets en minuscule tout, puis mets que les première lettre en majuscule puis enlèev espace avant et après\n",
    "            liste_att = [re.sub(\"([0-9]|(\\((.*?)\\))|\\-|\\(|\\)|#|\\?|&|\\[|\\]|�|!)\",\n",
    "                                \"\", elem).lower().strip().title() for elem in liste_att]\n",
    "            liste_att = [' '.join(elem.split()) for elem in liste_att]\n",
    "            liste_att = [elem for elem in liste_att if len(elem) > 2]\n",
    "\n",
    "            # enlever les doublons eventuels -> pb de doublement de PK sinon\n",
    "            liste_att = list(set(liste_att))\n",
    "\n",
    "            for elem in liste_att:\n",
    "                try:\n",
    "                    elem = str(elem.encode('ascii'))[2:-1]\n",
    "\n",
    "                except:\n",
    "                    elem = str(elem.encode())[2:-1]\n",
    "                elem = elem.replace(\"'\", \"''\")\n",
    "\n",
    "                sql_request_select = \"SELECT id_auteur FROM Auteur WHERE nom_prenom = '\" + elem + \"'\"\n",
    "                res = mycursor.execute(sql_request_select)\n",
    "                id_att = [row[0] for row in res][0]\n",
    "                values = [id, id_att]\n",
    "                mycursor.execute(sql_request, values)\n",
    "\n",
    "    # On commit\n",
    "    mydb.commit()"
   ]
  },
  {
   "cell_type": "code",
   "execution_count": null,
   "metadata": {},
   "outputs": [],
   "source": [
    "insert2(\"MotCle\", \"mot\", \"id_motcle\")"
   ]
  },
  {
   "cell_type": "code",
   "execution_count": null,
   "metadata": {},
   "outputs": [],
   "source": []
  },
  {
   "cell_type": "code",
   "execution_count": null,
   "metadata": {},
   "outputs": [],
   "source": []
  },
  {
   "cell_type": "code",
   "execution_count": null,
   "metadata": {},
   "outputs": [],
   "source": []
  },
  {
   "cell_type": "code",
   "execution_count": 49,
   "metadata": {},
   "outputs": [],
   "source": [
    "mydb.close()"
   ]
  },
  {
   "cell_type": "code",
   "execution_count": 124,
   "metadata": {},
   "outputs": [
    {
     "name": "stderr",
     "output_type": "stream",
     "text": [
      "100%|██████████| 8439/8439 [05:19<00:00, 26.41it/s]  \n"
     ]
    }
   ],
   "source": [
    "# sql_request = \"INSERT INTO Pays_Evoq VALUES ( :1, :2)\"\n",
    "\n",
    "# for chaine_pays,id in zip(tqdm(df['Pays']), df['Id']):\n",
    "    \n",
    "#     if (chaine_pays is not np.nan):\n",
    "#         liste_pays = chaine_pays.split('/')\n",
    "#         liste_pays = [pays for pays in liste_pays if len(pays)>1]\n",
    "        \n",
    "#         for pays in liste_pays : \n",
    "#             sql_request_select = \"SELECT id_pays FROM Pays WHERE nom_pays = '\"+ pays +\"'\"\n",
    "#             res = mycursor.execute(sql_request_select)\n",
    "#             id_pays = [row[0] for row in res][0]\n",
    "#             values = [id, id_pays]\n",
    "#             mycursor.execute(sql_request, values)\n",
    "            \n",
    "# # On commit\n",
    "# mydb.commit()"
   ]
  },
  {
   "cell_type": "code",
   "execution_count": 8,
   "metadata": {
    "id": "d2uUxxn8I-HV"
   },
   "outputs": [],
   "source": []
  },
  {
   "cell_type": "code",
   "execution_count": 5,
   "metadata": {},
   "outputs": [],
   "source": [
    "# sql_request = \"SELECT id_pays FROM Pays WHERE nom_pays = 'France'\"\n",
    "# res = mycursor.execute(sql_request)\n",
    "# id_pays = [row[0] for row in res][0]"
   ]
  },
  {
   "cell_type": "code",
   "execution_count": null,
   "metadata": {},
   "outputs": [],
   "source": []
  }
 ],
 "metadata": {
  "colab": {
   "collapsed_sections": [],
   "name": "insertion_BD.ipynb",
   "provenance": []
  },
  "kernelspec": {
   "display_name": "Python 3",
   "language": "python",
   "name": "python3"
  },
  "language_info": {
   "codemirror_mode": {
    "name": "ipython",
    "version": 3
   },
   "file_extension": ".py",
   "mimetype": "text/x-python",
   "name": "python",
   "nbconvert_exporter": "python",
   "pygments_lexer": "ipython3",
   "version": "3.7.3"
  },
  "toc": {
   "base_numbering": 1,
   "nav_menu": {},
   "number_sections": true,
   "sideBar": true,
   "skip_h1_title": false,
   "title_cell": "Table of Contents",
   "title_sidebar": "Contents",
   "toc_cell": true,
   "toc_position": {},
   "toc_section_display": true,
   "toc_window_display": false
  }
 },
 "nbformat": 4,
 "nbformat_minor": 1
}
