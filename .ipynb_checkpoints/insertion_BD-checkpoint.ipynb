{
 "cells": [
  {
   "cell_type": "markdown",
   "metadata": {
    "toc": true
   },
   "source": [
    "<h1>Table of Contents<span class=\"tocSkip\"></span></h1>\n",
    "<div class=\"toc\"><ul class=\"toc-item\"><li><span><a href=\"#Insertion-dans-la-table-Pays\" data-toc-modified-id=\"Insertion-dans-la-table-Pays-1\"><span class=\"toc-item-num\">1&nbsp;&nbsp;</span>Insertion dans la table Pays</a></span></li></ul></div>"
   ]
  },
  {
   "cell_type": "markdown",
   "metadata": {
    "id": "GDFCWZM1F9q2"
   },
   "source": [
    "# Insertion dans la table Pays"
   ]
  },
  {
   "cell_type": "code",
   "execution_count": 1,
   "metadata": {
    "id": "8KNadDySF9q4"
   },
   "outputs": [],
   "source": [
    "#Import\n",
    "\n",
    "#from sqlalchemy import create_engine\n",
    "import cx_Oracle\n",
    "from tqdm import tqdm"
   ]
  },
  {
   "cell_type": "code",
   "execution_count": 2,
   "metadata": {
    "colab": {
     "base_uri": "https://localhost:8080/",
     "height": 227
    },
    "id": "NbSK1wRYF9q-",
    "outputId": "520868d9-3b4e-4cc4-b73b-7f398d56cdbf"
   },
   "outputs": [],
   "source": [
    "# Connexion à la base de données\n",
    "mydb = cx_Oracle.connect('SCT2985A/esg@//telline.univ-tlse3.fr:1521/etupre', encoding='utf-8')\n",
    "mycursor = mydb.cursor()"
   ]
  },
  {
   "cell_type": "code",
   "execution_count": 3,
   "metadata": {
    "id": "8GgK-kZOhTG9"
   },
   "outputs": [],
   "source": [
    "def insert(sql_request, liste):\n",
    "\n",
    "    id = 0 \n",
    "\n",
    "    for elem in tqdm(liste): \n",
    "        values = [id, elem]\n",
    "        mycursor.execute(sql_request, values)\n",
    "        id += 1\n",
    "        \n",
    "    # On commit\n",
    "    mydb.commit()"
   ]
  },
  {
   "cell_type": "code",
   "execution_count": 4,
   "metadata": {
    "id": "Tw1ZEuvWF9rF"
   },
   "outputs": [
    {
     "name": "stderr",
     "output_type": "stream",
     "text": [
      "100%|██████████| 197/197 [00:07<00:00, 25.11it/s]\n"
     ]
    }
   ],
   "source": [
    "# PAYS\n",
    "liste_pays_BD = [\"Algérie\", \"Angola\", \"Bénin\", \"Botswana\", \"Burkina Faso\", \"Burundi\", \"Cameroun\", \"Cap vert\",\n",
    "                 \"République centrafricaine\", \"Tchad\", \"Comores\", \"Congo\", \"Djibouti\", \"Egypte\",\n",
    "                 \"Guinée équatoriale\", \"Erythree\", \"Ethiopie\", \"Gabon\", \"Gambie\", \"Ghana\", \"Guinée\", \n",
    "                 \"Guinée-Bissau\", \"Côte d'Ivoire\", \"Kenya\", \"Lesotho\", \"Liberia\", \"Libye\", \"Madagascar\", \"Malawi\",\n",
    "                 \"Mali\", \"Mauritanie\", \"Ile Maurice\", \"Maroc\", \"Mozambique\", \"Namibie\", \"Niger\", \"Nigeria\", \n",
    "                 \"Rwanda\", \"Sao Tomé-et-Principe\", \"Sénégal\", \"Seychelles\", \"Sierra Leone\", \"Somalie\", \n",
    "                 \"Afrique du Sud\", \"Soudan\", \"Swaziland\", \"Tanzanie\", \"Togo\", \"Tunisie\", \"Ouganda\", \"Zambie\", \n",
    "                 \"Zimbabwe\", \"Albanie\", \"Andorre\", \"Arménie\", \"Autriche\", \"Azerbaijan\", \"Biélorussie\", \"Belgique\", \n",
    "                 \"Bosnie\", \"Bulgarie\", \"Croatie\", \"Chypre\", \"République Tchèque\", \"Danemark\", \"Estonie\", \n",
    "                 \"Finlande\", \"France\", \"Angleterre\", \"Ecosse\", \"Pays de Galles\", \"Géorgie\", \"Allemagne\", \"Grèce\", \n",
    "                 \"Hongrie\", \"Islande\", \"Irelande\", \"Italie\", \"Lettonie\", \"Liechtenstein\", \"Lituanie\", \"Luxembourg\",\n",
    "                 \"Macédoine\", \"Malte\", \"Moldavie\", \"Monaco\", \"Montenegro\", \"Pays-Bas\", \"Norvège\", \"Pologne\", \n",
    "                 \"Portugal\", \"Roumanie\", \"Saint-Marin\", \"Serbie\", \"Slovaquie\", \"Slovénie\", \"Espagne\", \"Suède\", \n",
    "                 \"Suisse\", \"Ukraine\", \"Royaume-Uni\", \"Vatican\", \"Antigua-et-Barbuda\", \"Bahamas\", \"La Barbade\", \n",
    "                 \"Belize\", \"Canada\", \"Costa Rica\", \"Cuba\", \"Dominique\", \"République dominicaine\", \"El Salvador\", \n",
    "                 \"Grenade\", \"Guatemala\", \"Haiti\", \"Honduras\", \"Jamaique\", \"Mexique\", \"Nicaragua\", \"Paname\", \n",
    "                 \"Saint-Christophe et Niévès\", \"Saint Lucie\", \"Saint Vincent et les Grenadines\",\n",
    "                 \"Trinidad et Tobago\", \"Etats-Unis\", \"Argentine\", \"Bolivie\", \"Brésil\", \"Chili\", \"Colombie\", \n",
    "                 \"Equateur\", \"Guyane\", \"Paraguay\", \"Pérou\", \"Suriname\", \"Uruguay\", \"Venezuela\", \"Afghanistan\", \n",
    "                 \"Bahrein\", \"Bangladesh\", \"Bhoutan\", \"Brunei\", \"Myanmar\", \"Cambodge\", \"Chine\", \"Timor oriental\", \n",
    "                 \"Inde\", \"Indonésie\", \"Iran\", \"Irak\", \"Israël\", \"Japon\", \"Jordanie\", \"Kazakhstan\", \"Corée du Sud\",\n",
    "                 \"Corée du Nord\", \"Koweït\", \"Kyrgyzstan\", \"Laos\", \"Liban\", \"Malaysie\", \"Maldives\", \"Mongolie\", \n",
    "                 \"Népal\", \"Oman\", \"Pakistan\", \"Palestine\", \"Philippines\", \"Qatar\", \"Russie\", \"Arabie Saoudite\",\n",
    "                 \"Singapour\", \"Sri Lanka\", \"Syrie\", \"Tajikistan\", \"Thaïlande\", \"Turquie\", \"Turkmenistan\", \n",
    "                 \"Emirats Arabes Unis\", \"Ouzbekistan\", \"Viêtnam\", \"Yémen\", \"Australie\", \"Fiji\", \n",
    "                 \"République de Kiribati\", \"Iles Marshall\", \"Micronésie\", \"Nauru\", \"Nouvelle-Zélande\", \"Palau\",\n",
    "                 \"Papouasie Nouvelle Guinée\", \"Iles Samoa\", \"Iles Salomon\", \"Tonga\", \"Tuvalu\", \"Vanuatu\", \n",
    "                 \"République Democratique du Congo\"]\n",
    "\n",
    "# Requête SQL\n",
    "sql_request = \"INSERT INTO Pays VALUES ( :1, :2)\"\n",
    "\n",
    "insert(sql_request, liste_pays_BD)"
   ]
  },
  {
   "cell_type": "code",
   "execution_count": 5,
   "metadata": {
    "id": "rbKNM3P7HnXx"
   },
   "outputs": [
    {
     "name": "stderr",
     "output_type": "stream",
     "text": [
      "100%|██████████| 46/46 [00:01<00:00, 24.98it/s]\n"
     ]
    }
   ],
   "source": [
    "# MARQUES \n",
    "liste_marque_BD = [\"Hyundai\", \"Toyota\", \"Renault\", \"Honda\", \"Airbus\", \"Boeing\", \"Thalès\", \"Mercedes\", \"Audi\", \n",
    "                   \"Kia\", \"Riversimple\", \"Nissan\", \"Ford\", \"Daimler\", \"Alstom\", \"BMW\", \"Hopium\", \"Peugeot\", \n",
    "                   \"Volkswagen\", \"General Motors\", \"PSA\", \"Roland Gumpert\", \"Mazda\", \"Aston Martin\", \"Pininfarina\",\n",
    "                   \"Suzuki\", \"Volvo\", \"Opel\", \"Dassault\", \"Cessna\", \"Bombardier\", \"MiG\", \"Diamond\", \"ZeroAvia\", \n",
    "                   \"Rolls-Royce\", \"Eviation\", \"Khrounitchev\", \"NASA\", \"SpaceX\", \"Avio\", \"ArianeGroup\", \n",
    "                   \"United Launch Alliance\", \"McDonnell Douglas\", \"Mitsubishi Heavy Industries\", \"ISRO\", \n",
    "                   \"Ioujnoie\"]\n",
    "\n",
    "# Requête SQL\n",
    "sql_request = \"INSERT INTO Marque VALUES ( :1, :2)\"\n",
    "\n",
    "insert(sql_request, liste_marque_BD)"
   ]
  },
  {
   "cell_type": "code",
   "execution_count": 6,
   "metadata": {
    "id": "IigkDQoShFay"
   },
   "outputs": [
    {
     "name": "stderr",
     "output_type": "stream",
     "text": [
      "100%|██████████| 4/4 [00:00<00:00, 23.49it/s]\n"
     ]
    }
   ],
   "source": [
    "# DOMAINES \n",
    "liste_domaine_BD = ['Militaire', 'Agriculture', 'Astronautique', \"Aéronautique\"]\n",
    "\n",
    "# Requête SQL\n",
    "sql_request = \"INSERT INTO Domaine VALUES ( :1, :2)\"\n",
    "\n",
    "insert(sql_request, liste_domaine_BD)"
   ]
  },
  {
   "cell_type": "code",
   "execution_count": 7,
   "metadata": {
    "id": "nEPT7wWAh7Cz"
   },
   "outputs": [
    {
     "name": "stderr",
     "output_type": "stream",
     "text": [
      "100%|██████████| 12/12 [00:00<00:00, 23.00it/s]\n"
     ]
    }
   ],
   "source": [
    "# VEHICULES \n",
    "liste_vehicule_BD = [\"Train\", \"Tracteur\", \"Vélo\", \"Bateau\", \"Avion\", \"Voiture\", \"Camion\", \"Bus\", \"Fusée\", \n",
    "                     \"Hélicoptère\", \"Moto\", \"Tramway\"]\n",
    "\n",
    "# Requête SQL\n",
    "sql_request = \"INSERT INTO Vehicule VALUES ( :1, :2)\"\n",
    "\n",
    "insert(sql_request, liste_vehicule_BD)"
   ]
  },
  {
   "cell_type": "code",
   "execution_count": 8,
   "metadata": {
    "id": "pIUlMAJ4h7Gc"
   },
   "outputs": [
    {
     "name": "stderr",
     "output_type": "stream",
     "text": [
      "100%|██████████| 4/4 [00:00<00:00, 23.44it/s]\n"
     ]
    }
   ],
   "source": [
    "# MOTEURS \n",
    "liste_moteur_BD = [\"Combustion interne\", \"Réaction\",  \"Pile à combustible\", \"Hybride\"]\n",
    "\n",
    "# Requête SQL\n",
    "sql_request = \"INSERT INTO Moteur  VALUES ( :1, :2)\"\n",
    "\n",
    "insert(sql_request, liste_moteur_BD)"
   ]
  },
  {
   "cell_type": "code",
   "execution_count": null,
   "metadata": {
    "id": "AhLnTA53_E2-"
   },
   "outputs": [],
   "source": []
  },
  {
   "cell_type": "code",
   "execution_count": 9,
   "metadata": {
    "id": "Y1USNNk0h6_8"
   },
   "outputs": [],
   "source": [
    "# TECHONOLOGIES\n",
    "liste_type_prod_BD_H = [\"SMR\", \"Pyrolyse du méthane\", \"Oxydation partielle\", \"Reformage plasma\",\n",
    "                        \"Gazéification du charbon\"]\n",
    "\n",
    "liste_type_prod_BD_E = [\"Electrolyse\", \"Electrochimie\", \"Radiolyse\", \"Thermolyse\", \"Thermochimie\",\n",
    "                        \"Ferrosilicium\", \"Culture d'algues\", \"Fission photocatalytique\"]\n",
    "\n",
    "liste_type_prod_BD_A = [\"Fermentation\", \"Production enzymatique\", \"Electrolyse biocatalysée\"]\n",
    "\n",
    "\n",
    "liste_stockage_BD = ['Gaz', 'Liquide', 'Solide']\n",
    "\n",
    "\n",
    "# Requête SQL\n",
    "sql_request = \"INSERT INTO Technologie VALUES ( :1, :2, :3, :4)\"\n",
    "\n",
    "\n",
    "id_techno = 0\n",
    "cpt = 0\n",
    "\n",
    "for liste in tqdm([liste_type_prod_BD_H, liste_type_prod_BD_E, liste_type_prod_BD_A, liste_stockage_BD]):\n",
    "    if (cpt != 3):\n",
    "        cat = 'Production'\n",
    "    else:\n",
    "        cat = 'Stockage'\n",
    "\n",
    "    if (cpt == 0):\n",
    "        source = 'Hydraucarbures'\n",
    "    elif (cpt == 1):\n",
    "        source = 'Eau'\n",
    "    elif (cpt == 2):\n",
    "        source = 'Autre'\n",
    "    else:\n",
    "        source = None\n",
    "\n",
    "    for techno in liste:\n",
    "        values = [id_techno, techno, cat, source]\n",
    "        mycursor.execute(sql_request, values)\n",
    "        id_techno += 1\n",
    "    cpt += 1\n",
    "\n",
    "# On commit\n",
    "mydb.commit()"
   ]
  },
  {
   "cell_type": "code",
   "execution_count": null,
   "metadata": {},
   "outputs": [],
   "source": []
  },
  {
   "cell_type": "code",
   "execution_count": null,
   "metadata": {},
   "outputs": [],
   "source": []
  },
  {
   "cell_type": "code",
   "execution_count": null,
   "metadata": {},
   "outputs": [],
   "source": []
  },
  {
   "cell_type": "code",
   "execution_count": null,
   "metadata": {},
   "outputs": [],
   "source": []
  },
  {
   "cell_type": "code",
   "execution_count": null,
   "metadata": {
    "id": "pdrK0SwrDNv2"
   },
   "outputs": [],
   "source": [
    "# FAIRE UN DROP DUPLICATES SUR LA JOINTURE DES DF !! (notebook précédent)\n",
    "# drop duplicates sur tout ou juste sur titre, auteur, etc ? (plutot sur tout pour garder un nb d'articles sup à 8000 )\n",
    "\n",
    "\n",
    "### (!)(!)(!)(!)(!)(!)(!) Regarder les doublons sur id ! "
   ]
  },
  {
   "cell_type": "code",
   "execution_count": null,
   "metadata": {
    "id": "Rn-LaCjRDN0x"
   },
   "outputs": [],
   "source": []
  },
  {
   "cell_type": "code",
   "execution_count": null,
   "metadata": {
    "id": "J0lHq_pnDN6e"
   },
   "outputs": [],
   "source": []
  },
  {
   "cell_type": "code",
   "execution_count": null,
   "metadata": {
    "id": "OyArVkiQDN_Y"
   },
   "outputs": [],
   "source": []
  },
  {
   "cell_type": "code",
   "execution_count": null,
   "metadata": {
    "id": "IsuAv9Kwh7Jk"
   },
   "outputs": [],
   "source": [
    "# AUTEURS \n",
    "col_auteurs = df['auteur']\n",
    "auteurs_deja_inseres = set()\n",
    "id_auteurs = 0 \n",
    "sql_request_auteurs = \"INSERT INTO Auteur  VALUES ( :1, :2)\"\n",
    "\n",
    "for auteurs in col_auteurs : \n",
    "    auteurs = auteurs.split('and')\n",
    "    auteurs = [elem.lower().strip().title() for elem in auteurs] # mets en minuscule tout, puis mets que les première lettre en majuscule puis enlèev espace avant et après \n",
    "\n",
    "    #(!) accents \n",
    "    # Rmq : on ne peut pas utiliser la fonction créée précédemment car il faut vérifier que l'auteur que l'on veut insérer n'a pas déjà été inséré dans la BD \n",
    "    for auteur in auteurs : \n",
    "\n",
    "        if auteur not in auteurs_deja_inseres : \n",
    "            values = [id_auteurs, auteur]\n",
    "            mycursor.execute(sql_request, values)\n",
    "            id_auteurs += 1\n",
    "                \n",
    "# On commit\n",
    "mydb.commit()"
   ]
  },
  {
   "cell_type": "code",
   "execution_count": null,
   "metadata": {
    "id": "_2w6QwPk-hcR"
   },
   "outputs": [],
   "source": [
    "# ARTICLES \n",
    "def nettoyer(date): \n",
    "    if (len(date) == 10 and date[4]=='-' and date[7]=='-'):\n",
    "        # format à déterminer \n",
    "    elif (len(date) == 6):\n",
    "        date = date[1:-1]\n",
    "        # il y a que l'année \n",
    "\n",
    "\n",
    "    # TODO\n",
    "\n",
    "\n",
    "\n",
    "\n",
    "ids = df['id']\n",
    "dates = df['date']\n",
    "titres = df['titre']\n",
    "langues = df['langue']\n",
    "\n",
    "sql_request_articles = \"INSERT INTO Article  VALUES ( :1, :2, :3, :4)\"\n",
    "\n",
    "# Rmq : on a effectué un drop duplicate préalablement => pas de risque de doublons \n",
    "for id, titre, langue, date in zip(ids, titres, langues, dates): \n",
    "\n",
    "    date = nettoyer(date)\n",
    "\n",
    "    values = [id, titre, langue, date]\n",
    "    mycursor.execute(sql_request, values)\n",
    "\n",
    "\n",
    "# On commit\n",
    "mydb.commit()"
   ]
  },
  {
   "cell_type": "code",
   "execution_count": null,
   "metadata": {
    "id": "AJJD86LOh7Mv"
   },
   "outputs": [],
   "source": []
  },
  {
   "cell_type": "code",
   "execution_count": null,
   "metadata": {
    "id": "c5HMdwkRh7P3"
   },
   "outputs": [],
   "source": [
    "#close !!!"
   ]
  },
  {
   "cell_type": "code",
   "execution_count": 8,
   "metadata": {
    "id": "9l1tQh6DHnam"
   },
   "outputs": [],
   "source": []
  },
  {
   "cell_type": "code",
   "execution_count": 8,
   "metadata": {
    "id": "rlMhrD-dHndh"
   },
   "outputs": [],
   "source": []
  },
  {
   "cell_type": "code",
   "execution_count": 8,
   "metadata": {
    "id": "d2uUxxn8I-HV"
   },
   "outputs": [],
   "source": []
  }
 ],
 "metadata": {
  "colab": {
   "collapsed_sections": [],
   "name": "insertion_BD.ipynb",
   "provenance": []
  },
  "kernelspec": {
   "display_name": "Python 3",
   "language": "python",
   "name": "python3"
  },
  "language_info": {
   "codemirror_mode": {
    "name": "ipython",
    "version": 3
   },
   "file_extension": ".py",
   "mimetype": "text/x-python",
   "name": "python",
   "nbconvert_exporter": "python",
   "pygments_lexer": "ipython3",
   "version": "3.7.3"
  },
  "toc": {
   "base_numbering": 1,
   "nav_menu": {},
   "number_sections": true,
   "sideBar": true,
   "skip_h1_title": false,
   "title_cell": "Table of Contents",
   "title_sidebar": "Contents",
   "toc_cell": true,
   "toc_position": {},
   "toc_section_display": true,
   "toc_window_display": false
  }
 },
 "nbformat": 4,
 "nbformat_minor": 1
}
